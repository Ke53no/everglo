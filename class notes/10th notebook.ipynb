{
 "cells": [
  {
   "cell_type": "code",
   "execution_count": 1,
   "metadata": {},
   "outputs": [
    {
     "name": "stdout",
     "output_type": "stream",
     "text": [
      "Aaaah...\n"
     ]
    }
   ],
   "source": [
    "class Bird:\n",
    "    def __init__(self):\n",
    "        self.hungry = True\n",
    "        \n",
    "    def eat(self):\n",
    "        if self.hungry:\n",
    "            print('Aaaah...')\n",
    "            self.hungry = False\n",
    "        else:\n",
    "            print('No, thx.')\n",
    "    \n",
    "b = Bird()\n",
    "b.eat()"
   ]
  },
  {
   "cell_type": "code",
   "execution_count": 2,
   "metadata": {},
   "outputs": [
    {
     "name": "stdout",
     "output_type": "stream",
     "text": [
      "No, thx.\n"
     ]
    }
   ],
   "source": [
    "b.eat()"
   ]
  },
  {
   "cell_type": "code",
   "execution_count": 4,
   "metadata": {},
   "outputs": [
    {
     "name": "stdout",
     "output_type": "stream",
     "text": [
      "Squawki!\n"
     ]
    }
   ],
   "source": [
    "class SongBird(Bird):\n",
    "    def __init__(self):\n",
    "        self.sound = 'Squawki!'\n",
    "        \n",
    "    def sing(self):\n",
    "        print(self.sound)\n",
    "\n",
    "s = SongBird()\n",
    "s.sing()"
   ]
  },
  {
   "cell_type": "code",
   "execution_count": 5,
   "metadata": {},
   "outputs": [
    {
     "ename": "AttributeError",
     "evalue": "'SongBird' object has no attribute 'hungry'",
     "output_type": "error",
     "traceback": [
      "\u001b[1;31m---------------------------------------------------------------------------\u001b[0m",
      "\u001b[1;31mAttributeError\u001b[0m                            Traceback (most recent call last)",
      "\u001b[1;32m<ipython-input-5-4c85654e90e5>\u001b[0m in \u001b[0;36m<module>\u001b[1;34m\u001b[0m\n\u001b[1;32m----> 1\u001b[1;33m \u001b[0ms\u001b[0m\u001b[1;33m.\u001b[0m\u001b[0meat\u001b[0m\u001b[1;33m(\u001b[0m\u001b[1;33m)\u001b[0m\u001b[1;33m\u001b[0m\u001b[1;33m\u001b[0m\u001b[0m\n\u001b[0m",
      "\u001b[1;32m<ipython-input-1-1f20cfdc5d47>\u001b[0m in \u001b[0;36meat\u001b[1;34m(self)\u001b[0m\n\u001b[0;32m      4\u001b[0m \u001b[1;33m\u001b[0m\u001b[0m\n\u001b[0;32m      5\u001b[0m     \u001b[1;32mdef\u001b[0m \u001b[0meat\u001b[0m\u001b[1;33m(\u001b[0m\u001b[0mself\u001b[0m\u001b[1;33m)\u001b[0m\u001b[1;33m:\u001b[0m\u001b[1;33m\u001b[0m\u001b[1;33m\u001b[0m\u001b[0m\n\u001b[1;32m----> 6\u001b[1;33m         \u001b[1;32mif\u001b[0m \u001b[0mself\u001b[0m\u001b[1;33m.\u001b[0m\u001b[0mhungry\u001b[0m\u001b[1;33m:\u001b[0m\u001b[1;33m\u001b[0m\u001b[1;33m\u001b[0m\u001b[0m\n\u001b[0m\u001b[0;32m      7\u001b[0m             \u001b[0mprint\u001b[0m\u001b[1;33m(\u001b[0m\u001b[1;34m'Aaaah...'\u001b[0m\u001b[1;33m)\u001b[0m\u001b[1;33m\u001b[0m\u001b[1;33m\u001b[0m\u001b[0m\n\u001b[0;32m      8\u001b[0m             \u001b[0mself\u001b[0m\u001b[1;33m.\u001b[0m\u001b[0mhungry\u001b[0m \u001b[1;33m=\u001b[0m \u001b[1;32mFalse\u001b[0m\u001b[1;33m\u001b[0m\u001b[1;33m\u001b[0m\u001b[0m\n",
      "\u001b[1;31mAttributeError\u001b[0m: 'SongBird' object has no attribute 'hungry'"
     ]
    }
   ],
   "source": [
    "s.eat()"
   ]
  },
  {
   "cell_type": "code",
   "execution_count": 9,
   "metadata": {},
   "outputs": [
    {
     "name": "stdout",
     "output_type": "stream",
     "text": [
      "Squawki!\n",
      "Aaaah...\n",
      "No, thx.\n"
     ]
    }
   ],
   "source": [
    "class SongBird(Bird):\n",
    "    def __init__(self):\n",
    "        #Bird.__init__(self)\n",
    "        super().__init__()\n",
    "        self.sound = 'Squawki!'\n",
    "        \n",
    "    def sing(self):\n",
    "        print(self.sound)\n",
    "\n",
    "s = SongBird()\n",
    "s.sing()\n",
    "s.eat()\n",
    "s.eat()"
   ]
  },
  {
   "cell_type": "code",
   "execution_count": 13,
   "metadata": {},
   "outputs": [
    {
     "name": "stdout",
     "output_type": "stream",
     "text": [
      "a c\n"
     ]
    }
   ],
   "source": [
    "class A:\n",
    "    def __init__(self):\n",
    "        self.a = 'a'\n",
    "        \n",
    "class B(A):\n",
    "    def __init__(self):\n",
    "        super().__init__()\n",
    "        sefl.b = 'b'\n",
    "        \n",
    "class C(A):\n",
    "    def __init__(self):\n",
    "        super().__init__()\n",
    "        self.c = 'c'\n",
    "        \n",
    "    def test(self):\n",
    "        print(self.a, self.c)\n",
    "        \n",
    "c = C()\n",
    "c.test()"
   ]
  },
  {
   "cell_type": "code",
   "execution_count": null,
   "metadata": {},
   "outputs": [],
   "source": [
    "class Hamburger:\n",
    "    pass\n",
    "\n",
    "class BeefHumburger(Hamburger):\n",
    "    pass\n",
    "\n",
    "class ChickenHanburger(Hamburger):\n",
    "    pass\n",
    "\n"
   ]
  },
  {
   "cell_type": "code",
   "execution_count": 14,
   "metadata": {},
   "outputs": [],
   "source": [
    "class Hamburger:\n",
    "    def __init__(self):\n",
    "        self.meat = 'beaf'\n",
    "        self.toppings = ['tomato', 'bacon', 'onion ring']\n",
    "        condiments = ['lime sour sauce']\n",
    "\n",
    "beaf_hamburger = Hamburger()\n",
    "beaf_hamburger.toppings = ['tomato', 'lettuce']\n",
    "beaf_condiments = ['mayo']\n",
    "\n",
    "chicken_hamburger = Hamburger()\n",
    "chicken_hamburger.meat = 'chicken'\n",
    "chicken_hamburger.toppings = ['red pepper', 'lettuce']\n",
    "chicken_condiments = ['BBQ source']\n",
    "\n",
    "\n"
   ]
  },
  {
   "cell_type": "code",
   "execution_count": 15,
   "metadata": {},
   "outputs": [
    {
     "name": "stdout",
     "output_type": "stream",
     "text": [
      "1\n"
     ]
    }
   ],
   "source": [
    "#__getitem__(self, key)\n",
    "my_list = [1, 2, 3]\n",
    "print(my_list[0])\n",
    "\n",
    "#__setitem__(self, key)\n",
    "my_list[0] = 2\n",
    "\n",
    "#__delitem__(self, key)\n",
    "del my_list[0]"
   ]
  },
  {
   "cell_type": "code",
   "execution_count": 21,
   "metadata": {},
   "outputs": [],
   "source": [
    "class ArithmeticSequence:\n",
    "    def __init__(self, start = 0, step = 1):\n",
    "        self.start = start\n",
    "        self.step = step\n",
    "        self.change = {}\n",
    "        \n",
    "    def check_key(self,key):\n",
    "        if not isinstance(key, int): raise TypeError\n",
    "        if key<0:raise IndexError\n",
    "        \n",
    "    def __getitem__(self, key):\n",
    "        self.check_key(key)\n",
    "        try: return self.change[key]\n",
    "        except KeyError:\n",
    "            return self.start + key * self.step\n",
    "        \n",
    "    def __setitem__(self, key, value):\n",
    "        self.check_key(key)\n",
    "        self.change[key] = value"
   ]
  },
  {
   "cell_type": "code",
   "execution_count": 22,
   "metadata": {},
   "outputs": [
    {
     "name": "stdout",
     "output_type": "stream",
     "text": [
      "9\n",
      "20001\n"
     ]
    }
   ],
   "source": [
    "s = ArithmeticSequence(1, 2)\n",
    "print(s[4])\n",
    "print(s[10000])\n",
    "s[4] = 100"
   ]
  },
  {
   "cell_type": "code",
   "execution_count": 23,
   "metadata": {},
   "outputs": [
    {
     "name": "stdout",
     "output_type": "stream",
     "text": [
      "--------------------------------------------------------------------------------\r"
     ]
    }
   ],
   "source": [
    "from time import sleep\n",
    "import random\n",
    "\n",
    "class Bar:\n",
    "    __empty = '-'\n",
    "    def __init__(self, length=80):\n",
    "        self.bar = list()\n",
    "        for i in range(0, length):\n",
    "            self.bar.append(Bar.__empty)\n",
    "    \n",
    "    def reset(self):\n",
    "        for i in range(len(self.bar)):\n",
    "            self.bar[i] = Bar.__empty\n",
    "            \n",
    "    def update(self, ants):\n",
    "        self.reset()\n",
    "        for ant in ants:\n",
    "            if 0 <= ant.position < len(self.bar):\n",
    "                self.bar[ant.position] = ant.symbol\n",
    "                \n",
    "    def is_empty(self):\n",
    "        for item in self.bar:\n",
    "            if not item == Bar.__empty:\n",
    "                return False\n",
    "        else:\n",
    "            return True\n",
    "        \n",
    "    def show(self):\n",
    "        for ch in self.bar:\n",
    "            print(ch, sep='', end='')\n",
    "        print('', end='\\r')\n",
    "        \n",
    "    \n",
    "class Ant:\n",
    "    symbols = 'ABCDEFGHIJKLMNOPQRSTUVWXYZ'\n",
    "    count = 0\n",
    "    def __init__(self, position, direction, symbol=None):\n",
    "        self.position = position\n",
    "        self.direction = direction\n",
    "        if symbol is None:\n",
    "            self.symbol = Ant.symbols[Ant.count]\n",
    "            Ant.count += 1\n",
    "        else:\n",
    "            self.symbol = symbol\n",
    "        \n",
    "    def move(self):\n",
    "        self.position += self.direction\n",
    "        \n",
    "    def create_random_ant(length=80):\n",
    "        position = random.randint(0, length - 1)\n",
    "        direction = random.choice([1, -1])\n",
    "        return Ant(position, direction)\n",
    "        \n",
    "class Ants:\n",
    "    def __init__(self, count=3):\n",
    "        self.ants = list()\n",
    "        for i in range(count):\n",
    "            self.ants.append(Ant.create_random_ant())\n",
    "\n",
    "    def move(self):\n",
    "        for ant in self.ants:\n",
    "            ant.move()\n",
    "\n",
    "#    def get_ants(self):\n",
    "#        return self.ants\n",
    "    def __getitem__(self, key):\n",
    "        return self.ants[key]\n",
    "    \n",
    "    def __len__(self):\n",
    "        return len(self.ants)\n",
    "\n",
    "bar = Bar(80)\n",
    "ants = Ants(5)\n",
    "\n",
    "bar.update(ants)\n",
    "bar.show()\n",
    "\n",
    "while not bar.is_empty():\n",
    "    sleep(0.25)\n",
    "    ants.move()\n",
    "    bar.update(ants)\n",
    "    bar.show()      "
   ]
  },
  {
   "cell_type": "code",
   "execution_count": 24,
   "metadata": {},
   "outputs": [
    {
     "name": "stdout",
     "output_type": "stream",
     "text": [
      "1 2 3 "
     ]
    }
   ],
   "source": [
    "# Iterator\n",
    "my_list = [1, 2, 3]\n",
    "for i in my_list:\n",
    "    print(i, end = ' ')"
   ]
  },
  {
   "cell_type": "code",
   "execution_count": null,
   "metadata": {},
   "outputs": [],
   "source": [
    "__iter__() # return a iterator  //container\n",
    "__next__() # return next item "
   ]
  },
  {
   "cell_type": "code",
   "execution_count": 29,
   "metadata": {},
   "outputs": [
    {
     "name": "stdout",
     "output_type": "stream",
     "text": [
      "1 1 2 3 5 8 13 21 34 55 89 144 233 377 610 987 1597 "
     ]
    }
   ],
   "source": [
    "class Fibs:\n",
    "    def __init__(self):\n",
    "        self.a = 0\n",
    "        self.b = 1\n",
    "        \n",
    "    def __next__(self):\n",
    "        self.a, self.b = self.b, self.a + self.b\n",
    "        return self.a\n",
    "        \n",
    "    def __iter__(self):\n",
    "        return self\n",
    "    \n",
    "for i in Fibs():\n",
    "    print(i ,end = ' ')\n",
    "    if i>1000 :break"
   ]
  },
  {
   "cell_type": "code",
   "execution_count": 31,
   "metadata": {},
   "outputs": [
    {
     "name": "stdout",
     "output_type": "stream",
     "text": [
      "1 1 2 3 5 8 13 21 34 55 89 144 233 377 610 987 "
     ]
    }
   ],
   "source": [
    "class Fibs:\n",
    "    def __init__(self, max):\n",
    "        self.a = 0\n",
    "        self.b = 1\n",
    "        self.max = max\n",
    "        \n",
    "    def __next__(self):\n",
    "        self.a, self.b = self.b, self.a + self.b\n",
    "        if self.a > self.max: raise StopIteration\n",
    "        return self.a\n",
    "        \n",
    "    def __iter__(self):\n",
    "        return self\n",
    "        \n",
    "for i in Fibs(1000):\n",
    "    print(i, end=' ')"
   ]
  },
  {
   "cell_type": "code",
   "execution_count": 32,
   "metadata": {},
   "outputs": [
    {
     "data": {
      "text/plain": [
       "1"
      ]
     },
     "execution_count": 32,
     "metadata": {},
     "output_type": "execute_result"
    }
   ],
   "source": [
    "it = iter([1, 2, 3])\n",
    "next(it)"
   ]
  },
  {
   "cell_type": "code",
   "execution_count": 33,
   "metadata": {},
   "outputs": [
    {
     "data": {
      "text/plain": [
       "2"
      ]
     },
     "execution_count": 33,
     "metadata": {},
     "output_type": "execute_result"
    }
   ],
   "source": [
    "next(it)"
   ]
  },
  {
   "cell_type": "code",
   "execution_count": 34,
   "metadata": {},
   "outputs": [
    {
     "data": {
      "text/plain": [
       "3"
      ]
     },
     "execution_count": 34,
     "metadata": {},
     "output_type": "execute_result"
    }
   ],
   "source": [
    "next(it)"
   ]
  },
  {
   "cell_type": "code",
   "execution_count": 35,
   "metadata": {},
   "outputs": [
    {
     "ename": "StopIteration",
     "evalue": "",
     "output_type": "error",
     "traceback": [
      "\u001b[1;31m---------------------------------------------------------------------------\u001b[0m",
      "\u001b[1;31mStopIteration\u001b[0m                             Traceback (most recent call last)",
      "\u001b[1;32m<ipython-input-35-bc1ab118995a>\u001b[0m in \u001b[0;36m<module>\u001b[1;34m\u001b[0m\n\u001b[1;32m----> 1\u001b[1;33m \u001b[0mnext\u001b[0m\u001b[1;33m(\u001b[0m\u001b[0mit\u001b[0m\u001b[1;33m)\u001b[0m\u001b[1;33m\u001b[0m\u001b[1;33m\u001b[0m\u001b[0m\n\u001b[0m",
      "\u001b[1;31mStopIteration\u001b[0m: "
     ]
    }
   ],
   "source": [
    "next(it)"
   ]
  },
  {
   "cell_type": "code",
   "execution_count": 1,
   "metadata": {},
   "outputs": [
    {
     "name": "stdout",
     "output_type": "stream",
     "text": [
      "--------------------------------------------------------------------------------\r"
     ]
    }
   ],
   "source": [
    "from time import sleep\n",
    "import random\n",
    "\n",
    "class Bar:\n",
    "    __empty = '-'\n",
    "    def __init__(self, length=80):\n",
    "        self.bar = list()\n",
    "        for i in range(0, length):\n",
    "            self.bar.append(Bar.__empty)\n",
    "    \n",
    "    def reset(self):\n",
    "        for i in range(len(self.bar)):\n",
    "            self.bar[i] = Bar.__empty\n",
    "            \n",
    "    def update(self, ants):\n",
    "        self.reset()\n",
    "        for ant in ants:\n",
    "            if 0 <= ant.position < len(self.bar):\n",
    "                self.bar[ant.position] = ant.symbol\n",
    "                \n",
    "    def is_empty(self):\n",
    "        for item in self.bar:\n",
    "            if not item == Bar.__empty:\n",
    "                return False\n",
    "        else:\n",
    "            return True\n",
    "        \n",
    "    def show(self):\n",
    "        for ch in self.bar:\n",
    "            print(ch, sep='', end='')\n",
    "        print('', end='\\r')\n",
    "        \n",
    "    \n",
    "class Ant:\n",
    "    symbols = 'ABCDEFGHIJKLMNOPQRSTUVWXYZ'\n",
    "    count = 0\n",
    "    def __init__(self, position, direction, symbol=None):\n",
    "        self.position = position\n",
    "        self.direction = direction\n",
    "        if symbol is None:\n",
    "            self.symbol = Ant.symbols[Ant.count]\n",
    "            Ant.count += 1\n",
    "        else:\n",
    "            self.symbol = symbol\n",
    "        \n",
    "    def move(self, uturn):\n",
    "        if uturn:\n",
    "            self.direction *= -1\n",
    "        self.position += self.direction\n",
    "        \n",
    "    def create_random_ant(length=80):\n",
    "        position = random.randint(0, length - 1)\n",
    "        direction = random.choice([1, -1])\n",
    "        return Ant(position, direction)\n",
    "        \n",
    "class Ants:\n",
    "    def __init__(self, count=3):\n",
    "        self.ants = list()\n",
    "        for i in range(count):\n",
    "            self.ants.append(Ant.create_random_ant())\n",
    "\n",
    "    def move(self):\n",
    "        for ant, uturn in [(ant, self.need_uturn(ant)) for ant in self.ants]:\n",
    "            ant.move(uturn)\n",
    "            \n",
    "    def collided(self, ant):\n",
    "        return len([ant_b for ant_b in self.ants if ant_b.position == ant.position]) == 2\n",
    "    \n",
    "    def find_ant(self, position):\n",
    "        for ant in self.ants:\n",
    "            if ant.position == position:\n",
    "                return ant\n",
    "    \n",
    "    def need_uturn(self,ant):\n",
    "        if self.collided(ant):\n",
    "            return True\n",
    "        else:\n",
    "            neighbor = self.find_ant(ant.position + ant.direction)\n",
    "            if neighbor:\n",
    "                if neighbor.direction != ant.direction or (neighbor.direction == ant.direction and need_uturn(neighbor)):\n",
    "                    return True\n",
    "                \n",
    "        return False\n",
    "    \n",
    "#    def get_ants(self):\n",
    "#        return self.ants\n",
    "    def __getitem__(self, key):\n",
    "        return self.ants[key]\n",
    "    \n",
    "    def __len__(self):\n",
    "        return len(self.ants)\n",
    "    \n",
    "    def __iter__(self):\n",
    "        self.__iter = iter(self.ants)\n",
    "        return self\n",
    "    \n",
    "    def __next__(self):\n",
    "        return next(self.__iter)\n",
    "        \n",
    "\n",
    "bar = Bar(80)\n",
    "ants = Ants(5)\n",
    "\n",
    "bar.update(ants)\n",
    "bar.show()\n",
    "\n",
    "while not bar.is_empty():\n",
    "    sleep(0.25)\n",
    "    ants.move()\n",
    "    bar.update(ants)\n",
    "    bar.show()      "
   ]
  },
  {
   "cell_type": "code",
   "execution_count": null,
   "metadata": {},
   "outputs": [],
   "source": []
  }
 ],
 "metadata": {
  "kernelspec": {
   "display_name": "Python 3",
   "language": "python",
   "name": "python3"
  },
  "language_info": {
   "codemirror_mode": {
    "name": "ipython",
    "version": 3
   },
   "file_extension": ".py",
   "mimetype": "text/x-python",
   "name": "python",
   "nbconvert_exporter": "python",
   "pygments_lexer": "ipython3",
   "version": "3.7.3"
  }
 },
 "nbformat": 4,
 "nbformat_minor": 4
}
