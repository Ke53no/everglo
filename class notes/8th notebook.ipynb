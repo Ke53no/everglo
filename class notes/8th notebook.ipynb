{
 "cells": [
  {
   "cell_type": "code",
   "execution_count": 6,
   "metadata": {},
   "outputs": [
    {
     "name": "stdout",
     "output_type": "stream",
     "text": [
      "Hello, I'm Zhang San\n",
      "Hello, I'm Li Si\n"
     ]
    }
   ],
   "source": [
    "class Person:\n",
    "    def set_name(self,name):\n",
    "        self.name = name\n",
    "    def get_name(self):\n",
    "        return self.name\n",
    "    def greet(self):\n",
    "        print('Hello, I\\'m {}'.format(self.name))\n",
    "        \n",
    "zs = Person()\n",
    "zs.set_name('Zhang San')\n",
    "zs.greet()\n",
    "ls = Person()\n",
    "ls.set_name('Li Si')\n",
    "ls.greet()"
   ]
  },
  {
   "cell_type": "code",
   "execution_count": 7,
   "metadata": {},
   "outputs": [
    {
     "name": "stdout",
     "output_type": "stream",
     "text": [
      "Person count: 1\n",
      "Person count: 2\n",
      "Hello, I'm Zhang San\n",
      "Hello, I'm Li Si\n",
      "Person count: 3\n"
     ]
    }
   ],
   "source": [
    "class Person:\n",
    "    count=0\n",
    "    \n",
    "    def __init__(self,name=None):\n",
    "        self.__name = name\n",
    "        Person.count+=1\n",
    "        print('Person count: {}'.format(Person.count))\n",
    "        \n",
    "    def set_name(self,name):\n",
    "        self.__name = name\n",
    "        \n",
    "    def get_name(self):\n",
    "        return self.__name\n",
    "    \n",
    "    def greet(self):\n",
    "        print('Hello, I\\'m {}'.format(self.__name))\n",
    "        \n",
    "zs = Person('Zhang San')\n",
    "ls = Person('Li Si')\n",
    "zs.greet()\n",
    "ls.greet()\n",
    "ww = Person()"
   ]
  },
  {
   "cell_type": "code",
   "execution_count": 10,
   "metadata": {},
   "outputs": [
    {
     "name": "stdout",
     "output_type": "stream",
     "text": [
      "1\n"
     ]
    }
   ],
   "source": [
    "zs.name=1\n",
    "print(zs.name)"
   ]
  },
  {
   "cell_type": "code",
   "execution_count": 11,
   "metadata": {},
   "outputs": [
    {
     "name": "stdout",
     "output_type": "stream",
     "text": [
      "Hello, I'm Zhang San\n"
     ]
    }
   ],
   "source": [
    "zs.greet()"
   ]
  },
  {
   "cell_type": "code",
   "execution_count": 12,
   "metadata": {},
   "outputs": [
    {
     "data": {
      "text/plain": [
       "True"
      ]
     },
     "execution_count": 12,
     "metadata": {},
     "output_type": "execute_result"
    }
   ],
   "source": [
    "isinstance('hello',str)"
   ]
  },
  {
   "cell_type": "code",
   "execution_count": 13,
   "metadata": {},
   "outputs": [
    {
     "data": {
      "text/plain": [
       "False"
      ]
     },
     "execution_count": 13,
     "metadata": {},
     "output_type": "execute_result"
    }
   ],
   "source": [
    "isinstance(1, str)"
   ]
  },
  {
   "cell_type": "code",
   "execution_count": 18,
   "metadata": {},
   "outputs": [
    {
     "name": "stdout",
     "output_type": "stream",
     "text": [
      "Person count: 1\n",
      "Person count: 2\n",
      "Hello, I'm Zhang San\n",
      "Hello, I'm Li Si\n",
      "Not a valid name.\n",
      "Person count: 3\n"
     ]
    }
   ],
   "source": [
    "class Person:\n",
    "    count=0\n",
    "    \n",
    "    def __init__(self,name=None):\n",
    "        self.set_name(name)\n",
    "        Person.count+=1\n",
    "        print('Person count: {}'.format(Person.count))\n",
    "        \n",
    "    def set_name(self,name):\n",
    "        #assert(isinstance(name,str))\n",
    "        if isinstance(name,str):\n",
    "            self.__name = name\n",
    "        else:\n",
    "            print('Not a valid name.')\n",
    "        \n",
    "    def get_name(self):\n",
    "        return self.__name\n",
    "    \n",
    "    def greet(self):\n",
    "        print('Hello, I\\'m {}'.format(self.__name))\n",
    "        \n",
    "zs = Person('Zhang San')\n",
    "ls = Person('Li Si')\n",
    "zs.greet()\n",
    "ls.greet()\n",
    "ww = Person()"
   ]
  },
  {
   "cell_type": "code",
   "execution_count": 26,
   "metadata": {},
   "outputs": [
    {
     "name": "stdout",
     "output_type": "stream",
     "text": [
      "Person count: 1\n",
      "Person count: 2\n",
      "Hello, I'm Zhang San\n",
      "Hello, I'm Li Si\n",
      "Not a valid name.\n",
      "Person count: 3\n"
     ]
    }
   ],
   "source": [
    "class Person:\n",
    "    count=0\n",
    "    \n",
    "    def __init__(self,name=None):\n",
    "        self.set_name(name)\n",
    "        Person.count+=1\n",
    "        print('Person count: {}'.format(Person.count))\n",
    "        \n",
    "    def set_name(self,name):\n",
    "        #self.__name=name\n",
    "        #assert(isinstance(name,str))\n",
    "        if isinstance(name,str):\n",
    "            self.__name = name\n",
    "        else:\n",
    "            print('Not a valid name.')\n",
    "        \n",
    "    def get_name(self):\n",
    "        return self.__name\n",
    "    \n",
    "    def greet(self):\n",
    "        print('Hello, I\\'m {}'.format(self.__name))\n",
    "        \n",
    "zs = Person('Zhang San')\n",
    "ls = Person('Li Si')\n",
    "zs.greet()\n",
    "ls.greet()\n",
    "ww = Person()"
   ]
  },
  {
   "cell_type": "code",
   "execution_count": 37,
   "metadata": {},
   "outputs": [
    {
     "name": "stdout",
     "output_type": "stream",
     "text": [
      "Person count: 1\n",
      "Person count: 2\n",
      "Hello, I'm Zhang San\n",
      "Hello, I'm Zhang San\n",
      "Hello, I'm Li Si\n",
      "Hello, I'm Li Si\n",
      "Person count: 3\n"
     ]
    }
   ],
   "source": [
    "class Person:\n",
    "    count=0\n",
    "    \n",
    "    def __init__(self,name=None):\n",
    "        self.set_name(name)\n",
    "        Person.count+=1\n",
    "        print('Person count: {}'.format(Person.count))\n",
    "        \n",
    "    def set_name(self,name):\n",
    "        assert(isinstance(name,str))\n",
    "        self.__name=name\n",
    "\n",
    "        #if isinstance(name,str):\n",
    "        #    self.__name = name\n",
    "        #else:\n",
    "        #    print('Not a valid name.')\n",
    "        \n",
    "    def get_name(self):\n",
    "        return self.__name\n",
    "    \n",
    "    def __greet_once(self):\n",
    "        print('Hello, I\\'m {}'.format(self.__name))\n",
    "    \n",
    "    def greet(self):\n",
    "        self.__greet_once()\n",
    "        self.__greet_once()\n",
    "        \n",
    "zs = Person('Zhang San')\n",
    "ls = Person('Li Si')\n",
    "zs.greet()\n",
    "ls.greet()\n",
    "ww = Person('ji')"
   ]
  },
  {
   "cell_type": "code",
   "execution_count": 29,
   "metadata": {},
   "outputs": [
    {
     "name": "stdout",
     "output_type": "stream",
     "text": [
      "Help on class Person in module __main__:\n",
      "\n",
      "class Person(builtins.object)\n",
      " |  Person(name=None)\n",
      " |  \n",
      " |  Methods defined here:\n",
      " |  \n",
      " |  __init__(self, name=None)\n",
      " |      Initialize self.  See help(type(self)) for accurate signature.\n",
      " |  \n",
      " |  get_name(self)\n",
      " |  \n",
      " |  greet(self)\n",
      " |  \n",
      " |  set_name(self, name)\n",
      " |  \n",
      " |  ----------------------------------------------------------------------\n",
      " |  Data descriptors defined here:\n",
      " |  \n",
      " |  __dict__\n",
      " |      dictionary for instance variables (if defined)\n",
      " |  \n",
      " |  __weakref__\n",
      " |      list of weak references to the object (if defined)\n",
      " |  \n",
      " |  ----------------------------------------------------------------------\n",
      " |  Data and other attributes defined here:\n",
      " |  \n",
      " |  count = 3\n",
      "\n"
     ]
    }
   ],
   "source": [
    "help(Person)"
   ]
  },
  {
   "cell_type": "code",
   "execution_count": 38,
   "metadata": {},
   "outputs": [
    {
     "data": {
      "text/plain": [
       "{'_Person__name': 'Zhang San'}"
      ]
     },
     "execution_count": 38,
     "metadata": {},
     "output_type": "execute_result"
    }
   ],
   "source": [
    "zs.__dict__"
   ]
  },
  {
   "cell_type": "code",
   "execution_count": 39,
   "metadata": {},
   "outputs": [
    {
     "name": "stdout",
     "output_type": "stream",
     "text": [
      "Zhang San\n"
     ]
    }
   ],
   "source": [
    "print(zs._Person__name)"
   ]
  },
  {
   "cell_type": "code",
   "execution_count": 40,
   "metadata": {},
   "outputs": [
    {
     "name": "stdout",
     "output_type": "stream",
     "text": [
      "Hello, I'm 1\n",
      "Hello, I'm 1\n"
     ]
    }
   ],
   "source": [
    "zs._Person__name=1\n",
    "zs.greet()"
   ]
  },
  {
   "cell_type": "code",
   "execution_count": 41,
   "metadata": {},
   "outputs": [
    {
     "name": "stdout",
     "output_type": "stream",
     "text": [
      "Person count: 4\n"
     ]
    },
    {
     "data": {
      "text/plain": [
       "{'_Person__name': 'Zhang San', '__name': 'test'}"
      ]
     },
     "execution_count": 41,
     "metadata": {},
     "output_type": "execute_result"
    }
   ],
   "source": [
    "zs = Person('Zhang San')\n",
    "zs.__name = 'test'\n",
    "zs.__dict__"
   ]
  },
  {
   "cell_type": "code",
   "execution_count": 42,
   "metadata": {},
   "outputs": [
    {
     "name": "stdout",
     "output_type": "stream",
     "text": [
      "Help on class Person in module __main__:\n",
      "\n",
      "class Person(builtins.object)\n",
      " |  Person(name=None)\n",
      " |  \n",
      " |  Methods defined here:\n",
      " |  \n",
      " |  __init__(self, name=None)\n",
      " |      Initialize self.  See help(type(self)) for accurate signature.\n",
      " |  \n",
      " |  get_name(self)\n",
      " |  \n",
      " |  greet(self)\n",
      " |  \n",
      " |  set_name(self, name)\n",
      " |  \n",
      " |  ----------------------------------------------------------------------\n",
      " |  Data descriptors defined here:\n",
      " |  \n",
      " |  __dict__\n",
      " |      dictionary for instance variables (if defined)\n",
      " |  \n",
      " |  __weakref__\n",
      " |      list of weak references to the object (if defined)\n",
      " |  \n",
      " |  ----------------------------------------------------------------------\n",
      " |  Data and other attributes defined here:\n",
      " |  \n",
      " |  count = 4\n",
      "\n"
     ]
    }
   ],
   "source": [
    "help(Person)"
   ]
  },
  {
   "cell_type": "code",
   "execution_count": 47,
   "metadata": {},
   "outputs": [
    {
     "name": "stdout",
     "output_type": "stream",
     "text": [
      "Hello, I'm Zhang San\n",
      "Hello, I'm Zhang San\n",
      "Hello, I'm Li Si\n",
      "Hello, I'm Li Si\n"
     ]
    }
   ],
   "source": [
    "class Person:\n",
    "    #count=0\n",
    "    '''For testing #1: This class can be used to represent a person.\n",
    "    Can use to store personal information as well.'''\n",
    "    \n",
    "    def __init__(self,name=None):\n",
    "        '''For testing #2: Magic. You are believed to know how to cast magic spells, right?'''\n",
    "        self.set_name(name)\n",
    "        #Person.count+=1\n",
    "        #print('Person count: {}'.format(Person.count))\n",
    "        \n",
    "    def set_name(self,name):\n",
    "        '''For testing #3: Set name of persons, must be a str'''\n",
    "        assert(isinstance(name,str))\n",
    "        self.__name=name\n",
    "\n",
    "        #if isinstance(name,str):\n",
    "        #    self.__name = name\n",
    "        #else:\n",
    "        #    print('Not a valid name.')\n",
    "        \n",
    "    def get_name(self):\n",
    "        '''For testing #4: Return the name of the person.'''\n",
    "        return self.__name\n",
    "    \n",
    "    def __greet_once(self):\n",
    "        print('Hello, I\\'m {}'.format(self.__name))\n",
    "    \n",
    "    def greet(self):\n",
    "        '''For testing #5: Say hello!'''\n",
    "        self.__greet_once()\n",
    "        self.__greet_once()\n",
    "        \n",
    "zs = Person('Zhang San')\n",
    "ls = Person('Li Si')\n",
    "zs.greet()\n",
    "ls.greet()\n",
    "ww = Person('ji')"
   ]
  },
  {
   "cell_type": "code",
   "execution_count": 48,
   "metadata": {},
   "outputs": [
    {
     "name": "stdout",
     "output_type": "stream",
     "text": [
      "Help on class Person in module __main__:\n",
      "\n",
      "class Person(builtins.object)\n",
      " |  Person(name=None)\n",
      " |  \n",
      " |  For testing #1: This class can be used to represent a person.\n",
      " |  Can use to store personal information as well.\n",
      " |  \n",
      " |  Methods defined here:\n",
      " |  \n",
      " |  __init__(self, name=None)\n",
      " |      For testing #2: Magic. You are believed to know how to cast magic spells, right?\n",
      " |  \n",
      " |  get_name(self)\n",
      " |      For testing #4: Return the name of the person.\n",
      " |  \n",
      " |  greet(self)\n",
      " |      For testing #5: Say hello!\n",
      " |  \n",
      " |  set_name(self, name)\n",
      " |      For testing #3: Set name of persons, must be a str\n",
      " |  \n",
      " |  ----------------------------------------------------------------------\n",
      " |  Data descriptors defined here:\n",
      " |  \n",
      " |  __dict__\n",
      " |      dictionary for instance variables (if defined)\n",
      " |  \n",
      " |  __weakref__\n",
      " |      list of weak references to the object (if defined)\n",
      "\n"
     ]
    }
   ],
   "source": [
    "help(Person)"
   ]
  },
  {
   "cell_type": "code",
   "execution_count": 50,
   "metadata": {},
   "outputs": [
    {
     "name": "stdout",
     "output_type": "stream",
     "text": [
      "Hello, I'm Zhang San\n",
      "Hello, I'm Zhang San\n",
      "Hello, I'm Li Si\n",
      "Hello, I'm Li Si\n"
     ]
    }
   ],
   "source": [
    "class Person:\n",
    "    #count=0\n",
    "    '''For testing #1: This class can be used to represent a person.\n",
    "    Can use to store personal information as well.'''\n",
    "    \n",
    "    def __init__(self,name:str=None):#':str' is just a hint, not checking\n",
    "        '''For testing #2: Magic. You are believed to know how to cast magic spells, right?'''\n",
    "        self.set_name(name)\n",
    "        #Person.count+=1\n",
    "        #print('Person count: {}'.format(Person.count))\n",
    "        \n",
    "    def set_name(self,name:str):\n",
    "        '''For testing #3: Set name of persons, must be a str'''\n",
    "        assert(isinstance(name,str))\n",
    "        self.__name=name\n",
    "\n",
    "        #if isinstance(name,str):\n",
    "        #    self.__name = name\n",
    "        #else:\n",
    "        #    print('Not a valid name.')\n",
    "        \n",
    "    def get_name(self)->str:\n",
    "        '''For testing #4: Return the name of the person.'''\n",
    "        return self.__name\n",
    "    \n",
    "    def __greet_once(self):\n",
    "        print('Hello, I\\'m {}'.format(self.__name))\n",
    "    \n",
    "    def greet(self):\n",
    "        '''For testing #5: Say hello!'''\n",
    "        self.__greet_once()\n",
    "        self.__greet_once()\n",
    "        \n",
    "zs = Person('Zhang San')\n",
    "ls = Person('Li Si')\n",
    "zs.greet()\n",
    "ls.greet()\n",
    "ww = Person('ji')"
   ]
  },
  {
   "cell_type": "code",
   "execution_count": 51,
   "metadata": {},
   "outputs": [],
   "source": [
    "a = 1\n",
    "a = 'yg'"
   ]
  },
  {
   "cell_type": "code",
   "execution_count": 52,
   "metadata": {},
   "outputs": [
    {
     "data": {
      "text/plain": [
       "3"
      ]
     },
     "execution_count": 52,
     "metadata": {},
     "output_type": "execute_result"
    }
   ],
   "source": [
    "1+2"
   ]
  },
  {
   "cell_type": "code",
   "execution_count": 53,
   "metadata": {},
   "outputs": [
    {
     "data": {
      "text/plain": [
       "'ab'"
      ]
     },
     "execution_count": 53,
     "metadata": {},
     "output_type": "execute_result"
    }
   ],
   "source": [
    "'a' + 'b'"
   ]
  },
  {
   "cell_type": "code",
   "execution_count": 54,
   "metadata": {},
   "outputs": [
    {
     "name": "stdout",
     "output_type": "stream",
     "text": [
      "1\n"
     ]
    }
   ],
   "source": [
    "print('Hello'.count('e'))"
   ]
  },
  {
   "cell_type": "code",
   "execution_count": 55,
   "metadata": {},
   "outputs": [
    {
     "name": "stdout",
     "output_type": "stream",
     "text": [
      "2\n"
     ]
    }
   ],
   "source": [
    "print([1, 2, 3, 'e', 'e', 4].count('e'))"
   ]
  },
  {
   "cell_type": "code",
   "execution_count": 56,
   "metadata": {},
   "outputs": [
    {
     "name": "stdout",
     "output_type": "stream",
     "text": [
      "1\n",
      "3\n"
     ]
    }
   ],
   "source": [
    "my_list = ['Hello', [1, 2, 3, 'e', 'e','e',4]]\n",
    "for item in my_list:\n",
    "    print(item.count('e'))"
   ]
  },
  {
   "cell_type": "code",
   "execution_count": 61,
   "metadata": {},
   "outputs": [
    {
     "name": "stdout",
     "output_type": "stream",
     "text": [
      "Nya...\n",
      "Nya...\n",
      "Wan, Wan...\n",
      "Wan, Wan...\n"
     ]
    }
   ],
   "source": [
    "class Cat:\n",
    "    def nya(self):\n",
    "        print('Nya...')\n",
    "class Dog:\n",
    "    def wan(self):\n",
    "        print('Wan, Wan...')\n",
    "        \n",
    "pets = [Cat()]\n",
    "pets.append(Cat())\n",
    "pets.append(Dog())\n",
    "pets.append(Dog())\n",
    "#print(pets)\n",
    "for item in pets:\n",
    "    if isinstance(item,Cat):\n",
    "        item.nya()\n",
    "    if isinstance(item,Dog):\n",
    "        item.wan()\n",
    "    else:\n",
    "        pass"
   ]
  },
  {
   "cell_type": "code",
   "execution_count": 63,
   "metadata": {},
   "outputs": [
    {
     "name": "stdout",
     "output_type": "stream",
     "text": [
      "[<__main__.Cat object at 0x0000017F8B5E4E80>, <__main__.Dog object at 0x0000017F8B5E4FD0>, <__main__.Cat object at 0x0000017F8B5E4F60>, <__main__.Dog object at 0x0000017F8B5E4F28>]\n",
      "Nya...\n",
      "Wan, Wan...\n",
      "Nya...\n",
      "Wan, Wan...\n"
     ]
    }
   ],
   "source": [
    "class Cat:\n",
    "    def voi(self):\n",
    "        print('Nya...')\n",
    "class Dog:\n",
    "    def voi(self):\n",
    "        print('Wan, Wan...')\n",
    "        \n",
    "pets = [Cat(),Dog(),Cat(),Dog()]\n",
    "\n",
    "print(pets)\n",
    "for item in pets:\n",
    "    item.voi()"
   ]
  },
  {
   "cell_type": "code",
   "execution_count": 65,
   "metadata": {},
   "outputs": [
    {
     "name": "stdout",
     "output_type": "stream",
     "text": [
      "3\n",
      "ab\n"
     ]
    }
   ],
   "source": [
    "def add(a, b):\n",
    "    return a + b\n",
    "a = 1\n",
    "b = 2\n",
    "print(add(a, b))\n",
    "x, y = 'a', 'b'\n",
    "print(add(x, y))"
   ]
  },
  {
   "cell_type": "code",
   "execution_count": 71,
   "metadata": {},
   "outputs": [
    {
     "name": "stdout",
     "output_type": "stream",
     "text": [
      "Hello, I'm Zhang San\n",
      "Hello, I'm Zhang San\n",
      "My score is: 100\n"
     ]
    }
   ],
   "source": [
    "class Student(Person):\n",
    "    def set_score(self, score):\n",
    "        self.__score = score\n",
    "    def get_score(self):\n",
    "        return self.__score\n",
    "    def show_score(self):\n",
    "        print('My score is: {}'.format(self.__score))\n",
    "    def greet(self):\n",
    "        Person.greet(self)\n",
    "        self.show_score()\n",
    "        \n",
    "zs = Student('Zhang San')\n",
    "#zs.set_name('Zhang San')\n",
    "zs.set_score(100)\n",
    "zs.greet()\n",
    "#zs.show_score()"
   ]
  },
  {
   "cell_type": "code",
   "execution_count": 75,
   "metadata": {},
   "outputs": [
    {
     "name": "stdout",
     "output_type": "stream",
     "text": [
      "Hello, I'm Zhang San\n",
      "My score is: 100\n",
      "Hello, I'm Zhang San\n",
      "Hello, I'm Li Si\n"
     ]
    }
   ],
   "source": [
    "class Person:\n",
    "    #count=0\n",
    "    '''For testing #1: This class can be used to represent a person.\n",
    "    Can use to store personal information as well.'''\n",
    "    \n",
    "    def __init__(self,name:str=None):#':str' is just a hint, not checking\n",
    "        '''For testing #2: Magic. You are believed to know how to cast magic spells, right?'''\n",
    "        self.set_name(name)\n",
    "        #Person.count+=1\n",
    "        #print('Person count: {}'.format(Person.count))\n",
    "        \n",
    "    def set_name(self,name:str):\n",
    "        '''For testing #3: Set name of persons, must be a str'''\n",
    "        assert(isinstance(name,str))\n",
    "        self.__name=name\n",
    "\n",
    "        #if isinstance(name,str):\n",
    "        #    self.__name = name\n",
    "        #else:\n",
    "        #    print('Not a valid name.')\n",
    "        \n",
    "    def get_name(self)->str:\n",
    "        '''For testing #4: Return the name of the person.'''\n",
    "        return self.__name\n",
    "    \n",
    "    def __greet_once(self):\n",
    "        print('Hello, I\\'m {}'.format(self.__name))\n",
    "    \n",
    "    def greet(self):\n",
    "        '''For testing #5: Say hello!'''\n",
    "        #self.__greet_once()\n",
    "        self.__greet_once()\n",
    "        \n",
    "class Student(Person):\n",
    "    def __init__(self,name=None):\n",
    "        Person.__init__(self,name)\n",
    "        self.__score=60\n",
    "    def set_score(self, score):\n",
    "        self.__score = score\n",
    "    def get_score(self):\n",
    "        return self.__score\n",
    "    def show_score(self):\n",
    "        print('My score is: {}'.format(self.__score))\n",
    "    def greet(self):\n",
    "        Person.greet(self)\n",
    "        self.show_score()\n",
    "        \n",
    "zs = Student('Zhang San')\n",
    "#zs.set_name('Zhang San')\n",
    "zs.set_score(100)\n",
    "zs.greet()\n",
    "#zs.show_score()\n",
    "zs = Person('Zhang San')\n",
    "ls = Person('Li Si')\n",
    "zs.greet()\n",
    "ls.greet()\n",
    "ww = Person('ji')"
   ]
  },
  {
   "cell_type": "code",
   "execution_count": 76,
   "metadata": {},
   "outputs": [
    {
     "name": "stdout",
     "output_type": "stream",
     "text": [
      "Hello, I'm Zhang San\n",
      "Hello, I'm Li Si\n",
      "My score is: 100\n"
     ]
    }
   ],
   "source": [
    "people = list()\n",
    "zs = Person('Zhang San')\n",
    "ls = Student('Li Si')\n",
    "ls.set_score(100)\n",
    "people.append(zs)\n",
    "people.append(ls)\n",
    "for p in people:\n",
    "    p.greet()"
   ]
  },
  {
   "cell_type": "code",
   "execution_count": 77,
   "metadata": {},
   "outputs": [
    {
     "data": {
      "text/plain": [
       "True"
      ]
     },
     "execution_count": 77,
     "metadata": {},
     "output_type": "execute_result"
    }
   ],
   "source": [
    "issubclass(Student,Person)"
   ]
  },
  {
   "cell_type": "code",
   "execution_count": 79,
   "metadata": {},
   "outputs": [
    {
     "data": {
      "text/plain": [
       "True"
      ]
     },
     "execution_count": 79,
     "metadata": {},
     "output_type": "execute_result"
    }
   ],
   "source": [
    "isinstance(zs,Person)"
   ]
  },
  {
   "cell_type": "code",
   "execution_count": 80,
   "metadata": {},
   "outputs": [
    {
     "data": {
      "text/plain": [
       "False"
      ]
     },
     "execution_count": 80,
     "metadata": {},
     "output_type": "execute_result"
    }
   ],
   "source": [
    "isinstance(zs,Student)"
   ]
  },
  {
   "cell_type": "code",
   "execution_count": 81,
   "metadata": {},
   "outputs": [
    {
     "data": {
      "text/plain": [
       "True"
      ]
     },
     "execution_count": 81,
     "metadata": {},
     "output_type": "execute_result"
    }
   ],
   "source": [
    "isinstance(ls,Student)"
   ]
  },
  {
   "cell_type": "code",
   "execution_count": 82,
   "metadata": {},
   "outputs": [
    {
     "data": {
      "text/plain": [
       "True"
      ]
     },
     "execution_count": 82,
     "metadata": {},
     "output_type": "execute_result"
    }
   ],
   "source": [
    "isinstance(ls,Person)"
   ]
  },
  {
   "cell_type": "code",
   "execution_count": 84,
   "metadata": {},
   "outputs": [
    {
     "name": "stdout",
     "output_type": "stream",
     "text": [
      "Variable   Type        Data/Info\n",
      "--------------------------------\n",
      "Cat        type        <class '__main__.Cat'>\n",
      "Dog        type        <class '__main__.Dog'>\n",
      "Person     type        <class '__main__.Person'>\n",
      "Student    type        <class '__main__.Student'>\n",
      "a          int         1\n",
      "add        function    <function add at 0x0000017F8B5A68C8>\n",
      "b          int         2\n",
      "item       Dog         <__main__.Dog object at 0x0000017F8B5E4F28>\n",
      "ls         Student     <__main__.Student object at 0x0000017F8B5B5B70>\n",
      "my_list    list        n=2\n",
      "p          Student     <__main__.Student object at 0x0000017F8B5B5B70>\n",
      "people     list        n=2\n",
      "pets       list        n=4\n",
      "ww         Person      <__main__.Person object at 0x0000017F8B5E5C88>\n",
      "x          str         a\n",
      "y          str         b\n",
      "zs         Person      <__main__.Person object at 0x0000017F8B5B5BA8>\n"
     ]
    }
   ],
   "source": [
    "%whos"
   ]
  },
  {
   "cell_type": "code",
   "execution_count": 92,
   "metadata": {},
   "outputs": [
    {
     "data": {
      "text/plain": [
       "[1, 2, 3, 'SPAM']"
      ]
     },
     "execution_count": 92,
     "metadata": {},
     "output_type": "execute_result"
    }
   ],
   "source": [
    "class Filter:\n",
    "    def __init__(self):\n",
    "        self.blocked = []\n",
    "    def filter(self, sequence):\n",
    "        return [x for x in sequence if x not in self.blocked]\n",
    "    \n",
    "class SpamFilter(Filter):\n",
    "    def __init__(self):\n",
    "        self.blocked = ['SPAM']\n",
    "\n",
    "f = Filter()\n",
    "f.filter([1, 2, 3, 'SPAM'])"
   ]
  },
  {
   "cell_type": "code",
   "execution_count": 93,
   "metadata": {},
   "outputs": [
    {
     "data": {
      "text/plain": [
       "['WOW', 'YOHO']"
      ]
     },
     "execution_count": 93,
     "metadata": {},
     "output_type": "execute_result"
    }
   ],
   "source": [
    "sf = SpamFilter()\n",
    "sf.filter(['SPAM', 'SPAM', 'WOW','YOHO'])"
   ]
  },
  {
   "cell_type": "code",
   "execution_count": 94,
   "metadata": {},
   "outputs": [
    {
     "data": {
      "text/plain": [
       "['WOW', 'YOHO']"
      ]
     },
     "execution_count": 94,
     "metadata": {},
     "output_type": "execute_result"
    }
   ],
   "source": [
    "class Filter:\n",
    "    def __init__(self):\n",
    "        self.blocked = []\n",
    "    def filter(self, sequence):\n",
    "        return [x for x in sequence if x not in self.blocked]\n",
    "    \n",
    "#class SpamFilter(Filter):\n",
    "#    def __init__(self):\n",
    "#        self.blocked = ['SPAM']\n",
    "\n",
    "sf2 = Filter()\n",
    "sf2.blocked = ['SPAM']\n",
    "sf2.filter(['SPAM', 'SPAM', 'WOW','YOHO'])"
   ]
  },
  {
   "cell_type": "code",
   "execution_count": 95,
   "metadata": {},
   "outputs": [
    {
     "name": "stdout",
     "output_type": "stream",
     "text": [
      "My value is: 6\n"
     ]
    }
   ],
   "source": [
    "class Calculator:\n",
    "    def calculate(self, expression):\n",
    "        self.value = eval(expression)\n",
    "        \n",
    "class Talker:\n",
    "    def talk(self):\n",
    "        print('My value is:',self.value)\n",
    "        \n",
    "class TalkingCalculator(Calculator, Talker):\n",
    "    pass\n",
    "\n",
    "tc = TalkingCalculator()\n",
    "tc.calculate('1 + 2 + 3')\n",
    "tc.talk()"
   ]
  },
  {
   "cell_type": "code",
   "execution_count": 107,
   "metadata": {},
   "outputs": [
    {
     "name": "stdout",
     "output_type": "stream",
     "text": [
      "My value is: 6\n"
     ]
    }
   ],
   "source": [
    "class Calculator:\n",
    "    def calculate(self, expression):\n",
    "        return eval(expression)\n",
    "        \n",
    "class Talker:\n",
    "    def talk(self,value):\n",
    "        print('My value is:',value)\n",
    "        \n",
    "class TalkingCalculator:\n",
    "    def __init__(self):\n",
    "        self.__calculator = Calculator()\n",
    "        self.__talker = Talker()\n",
    "        self.__value = None\n",
    "        \n",
    "    def calculate(self, expression):\n",
    "        self.__value = self.__calculator.calculate(expression)\n",
    "    \n",
    "    def talk(self):\n",
    "        self.__talker.talk(self.__value)\n",
    "\n",
    "tc = TalkingCalculator()\n",
    "tc.calculate('1 + 2 + 3')\n",
    "tc.talk()"
   ]
  },
  {
   "cell_type": "code",
   "execution_count": null,
   "metadata": {},
   "outputs": [],
   "source": []
  },
  {
   "cell_type": "code",
   "execution_count": null,
   "metadata": {},
   "outputs": [],
   "source": []
  }
 ],
 "metadata": {
  "kernelspec": {
   "display_name": "Python 3",
   "language": "python",
   "name": "python3"
  },
  "language_info": {
   "codemirror_mode": {
    "name": "ipython",
    "version": 3
   },
   "file_extension": ".py",
   "mimetype": "text/x-python",
   "name": "python",
   "nbconvert_exporter": "python",
   "pygments_lexer": "ipython3",
   "version": "3.7.3"
  }
 },
 "nbformat": 4,
 "nbformat_minor": 4
}
