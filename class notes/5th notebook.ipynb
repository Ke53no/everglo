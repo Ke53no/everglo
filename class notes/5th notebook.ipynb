{
 "cells": [
  {
   "cell_type": "code",
   "execution_count": 1,
   "metadata": {},
   "outputs": [
    {
     "name": "stdout",
     "output_type": "stream",
     "text": [
      "{'b': 1, 'a': 0}\n"
     ]
    }
   ],
   "source": [
    "d = dict()\n",
    "d['b'] = 1\n",
    "d.setdefault('a',0)\n",
    "d.setdefault('b',0)\n",
    "print(d)"
   ]
  },
  {
   "cell_type": "code",
   "execution_count": 5,
   "metadata": {},
   "outputs": [
    {
     "name": "stdout",
     "output_type": "stream",
     "text": [
      "{'h': 1, 'e': 1, 'l': 3, 'o': 2, ',': 1, ' ': 1, 'w': 1, 'r': 1, 'd': 1}\n"
     ]
    }
   ],
   "source": [
    "count = {}\n",
    "for ch in 'hello, world':\n",
    "    if count.get(ch) == None:\n",
    "        count[ch] = 1\n",
    "    else:\n",
    "        count[ch] += 1\n",
    "print(count)"
   ]
  },
  {
   "cell_type": "code",
   "execution_count": 6,
   "metadata": {},
   "outputs": [
    {
     "name": "stdout",
     "output_type": "stream",
     "text": [
      "{'h': 1, 'e': 1, 'l': 3, 'o': 2, ',': 1, ' ': 1, 'w': 1, 'r': 1, 'd': 1}\n"
     ]
    }
   ],
   "source": [
    "count = {}\n",
    "for ch in 'hello, world':\n",
    "    count.setdefault(ch,0)\n",
    "    count[ch] += 1\n",
    "print(count)"
   ]
  },
  {
   "cell_type": "code",
   "execution_count": 7,
   "metadata": {},
   "outputs": [
    {
     "name": "stdout",
     "output_type": "stream",
     "text": [
      "['\\nLinear', 'causal', 'models', 'are', 'conveniently', 'developed', 'by', 'the', 'method', 'of', 'path', 'coefficients', 'proposed', 'by', 'Sewall', 'Wright.', 'Path', 'analysis', 'is', 'useful', 'in', 'making', 'explicit', 'the', 'rationale', 'of', 'conventional', 'regression', 'calculations.', 'It', 'may', 'also', 'have', 'special', 'usefulness', 'in', 'sodology', 'in', 'problems', 'involving', 'the', 'decomposition^', 'of', 'a', 'dependent', 'variable', 'or', 'those', 'in', 'which', 'successive', 'experiences', 'of', 'a', 'cohort', 'are', 'measured.', 'Path', 'analysis', 'focuses', 'on', 'the', 'problem', 'of', 'interpretation', 'and', 'does', 'not', 'purport', 'to', 'be', 'a', 'method', 'for', 'discovering', 'causes.', 'It', 'may,', 'nevertheless,', 'be', 'invaluable', 'in', 'rendering', 'interpretations', 'explicit,', 'self-consistent,', 'and', 'susceptible', 'to', 'rejection', 'by', 'subsequent', 'research.\\n']\n"
     ]
    }
   ],
   "source": [
    "test = '''\n",
    "Linear causal models are conveniently developed by the method of path coefficients proposed by Sewall Wright. Path analysis is useful in making explicit the rationale of conventional regression calculations. It may also have special usefulness in sodology in problems involving the decomposition^ of a dependent variable or those in which successive experiences of a cohort are measured. Path analysis focuses on the problem of interpretation and does not purport to be a method for discovering causes. It may, nevertheless, be invaluable in rendering interpretations explicit, self-consistent, and susceptible to rejection by subsequent research.\n",
    "'''\n",
    "words = test.split(' ')\n",
    "print(words)"
   ]
  },
  {
   "cell_type": "code",
   "execution_count": 10,
   "metadata": {},
   "outputs": [
    {
     "name": "stdout",
     "output_type": "stream",
     "text": [
      "{'linear': 1, 'causal': 1, 'models': 1, 'are': 2, 'conveniently': 1, 'developed': 1, 'by': 3, 'the': 4, 'method': 2, 'of': 5, 'path': 3, 'coefficients': 1, 'proposed': 1, 'sewall': 1, 'wright.': 1, 'analysis': 2, 'is': 1, 'useful': 1, 'in': 5, 'making': 1, 'explicit': 1, 'rationale': 1, 'conventional': 1, 'regression': 1, 'calculations.': 1, 'it': 2, 'may': 1, 'also': 1, 'have': 1, 'special': 1, 'usefulness': 1, 'sodology': 1, 'problems': 1, 'involving': 1, 'decomposition^': 1, 'a': 3, 'dependent': 1, 'variable': 1, 'or': 1, 'those': 1, 'which': 1, 'successive': 1, 'experiences': 1, 'cohort': 1, 'measured.': 1, 'focuses': 1, 'on': 1, 'problem': 1, 'interpretation': 1, 'and': 2, 'does': 1, 'not': 1, 'purport': 1, 'to': 2, 'be': 2, 'for': 1, 'discovering': 1, 'causes.': 1, 'may,': 1, 'nevertheless,': 1, 'invaluable': 1, 'rendering': 1, 'interpretations': 1, 'explicit,': 1, 'self-consistent,': 1, 'susceptible': 1, 'rejection': 1, 'subsequent': 1, 'research.': 1}\n"
     ]
    }
   ],
   "source": [
    "test.replace('\\n',' ')\n",
    "words = test.lower().split()\n",
    "count = {}\n",
    "for word in words:\n",
    "    count.setdefault(word, 0)\n",
    "    count[word] += 1\n",
    "print(count)"
   ]
  },
  {
   "cell_type": "code",
   "execution_count": 13,
   "metadata": {},
   "outputs": [
    {
     "name": "stdout",
     "output_type": "stream",
     "text": [
      "{'linear': 1, 'causal': 1, 'models': 1, 'are': 2, 'conveniently': 1, 'developed': 1, 'by': 3, 'the': 4, 'method': 2, 'of': 5, 'path': 3, 'coefficients': 1, 'proposed': 1, 'sewall': 1, 'wright.': 1, 'analysis': 2, 'is': 1, 'useful': 1, 'in': 5, 'making': 1, 'explicit': 1, 'rationale': 1, 'conventional': 1, 'regression': 1, 'calculations.': 1, 'it': 2, 'may': 1, 'also': 1, 'have': 1, 'special': 1, 'usefulness': 1, 'sodology': 1, 'problems': 1, 'involving': 1, 'decomposition^': 1, 'a': 3, 'dependent': 1, 'variable': 1, 'or': 1, 'those': 1, 'which': 1, 'successive': 1, 'experiences': 1, 'cohort': 1, 'measured.': 1, 'focuses': 1, 'on': 1, 'problem': 1, 'interpretation': 1, 'and': 2, 'does': 1, 'not': 1, 'purport': 1, 'to': 2, 'be': 2, 'for': 1, 'discovering': 1, 'causes.': 1, 'may,': 1, 'nevertheless,': 1, 'invaluable': 1, 'rendering': 1, 'interpretations': 1, 'explicit,': 1, 'self-consistent,': 1, 'susceptible': 1, 'rejection': 1, 'subsequent': 1, 'research.': 1}\n"
     ]
    }
   ],
   "source": [
    "sep = {'\\n\\t\\'\\\",.()-'}\n",
    "for ch in sep:\n",
    "    test = test.replace(ch,' ')\n",
    "words = test.lower().split()\n",
    "count = {}\n",
    "for word in words:\n",
    "    count.setdefault(word, 0)\n",
    "    count[word] += 1\n",
    "print(count)"
   ]
  },
  {
   "cell_type": "code",
   "execution_count": 18,
   "metadata": {},
   "outputs": [
    {
     "name": "stdout",
     "output_type": "stream",
     "text": [
      "{'linear': 1, 'causal': 1, 'models': 1, 'are': 2, 'conveniently': 1, 'developed': 1, 'by': 3, 'the': 4, 'method': 2, 'of': 5, 'path': 3, 'coefficients': 1, 'proposed': 1, 'sewall': 1, 'wright.': 1, 'analysis': 2, 'is': 1, 'useful': 1, 'in': 5, 'making': 1, 'explicit': 1, 'rationale': 1, 'conventional': 1, 'regression': 1, 'calculations.': 1, 'it': 2, 'may': 1, 'also': 1, 'have': 1, 'special': 1, 'usefulness': 1, 'sodology': 1, 'problems': 1, 'involving': 1, 'decomposition^': 1, 'a': 3, 'dependent': 1, 'variable': 1, 'or': 1, 'those': 1, 'which': 1, 'successive': 1, 'experiences': 1, 'cohort': 1, 'measured.': 1, 'focuses': 1, 'on': 1, 'problem': 1, 'interpretation': 1, 'and': 2, 'does': 1, 'not': 1, 'purport': 1, 'to': 2, 'be': 2, 'for': 1, 'discovering': 1, 'causes.': 1, 'may,': 1, 'nevertheless,': 1, 'invaluable': 1, 'rendering': 1, 'interpretations': 1, 'explicit,': 1, 'self-consistent,': 1, 'susceptible': 1, 'rejection': 1, 'subsequent': 1, 'research.': 1}\n"
     ]
    }
   ],
   "source": [
    "sep = {'\\n\\t\\'\\\",.()-'}\n",
    "for ch in sep:\n",
    "    test = test.replace(ch,' ')\n",
    "words = test.lower().split()\n",
    "try:\n",
    "    while True: words.remove('')\n",
    "except:\n",
    "    pass\n",
    "\n",
    "count = {}\n",
    "for word in words:\n",
    "    count.setdefault(word, 0)\n",
    "    count[word] += 1\n",
    "print(count)"
   ]
  },
  {
   "cell_type": "code",
   "execution_count": 19,
   "metadata": {},
   "outputs": [
    {
     "name": "stdout",
     "output_type": "stream",
     "text": [
      "['of', 'in']\n"
     ]
    }
   ],
   "source": [
    "words_by_count = dict()\n",
    "for word in count.keys():\n",
    "    words_by_count.setdefault(count[word],[])\n",
    "    words_by_count[count[word]].append(word)\n",
    "print(words_by_count[5])"
   ]
  },
  {
   "cell_type": "code",
   "execution_count": 20,
   "metadata": {},
   "outputs": [
    {
     "data": {
      "text/plain": [
       "dict_keys(['linear', 'causal', 'models', 'are', 'conveniently', 'developed', 'by', 'the', 'method', 'of', 'path', 'coefficients', 'proposed', 'sewall', 'wright.', 'analysis', 'is', 'useful', 'in', 'making', 'explicit', 'rationale', 'conventional', 'regression', 'calculations.', 'it', 'may', 'also', 'have', 'special', 'usefulness', 'sodology', 'problems', 'involving', 'decomposition^', 'a', 'dependent', 'variable', 'or', 'those', 'which', 'successive', 'experiences', 'cohort', 'measured.', 'focuses', 'on', 'problem', 'interpretation', 'and', 'does', 'not', 'purport', 'to', 'be', 'for', 'discovering', 'causes.', 'may,', 'nevertheless,', 'invaluable', 'rendering', 'interpretations', 'explicit,', 'self-consistent,', 'susceptible', 'rejection', 'subsequent', 'research.'])"
      ]
     },
     "execution_count": 20,
     "metadata": {},
     "output_type": "execute_result"
    }
   ],
   "source": [
    "count.keys()"
   ]
  },
  {
   "cell_type": "code",
   "execution_count": 25,
   "metadata": {},
   "outputs": [
    {
     "name": "stdout",
     "output_type": "stream",
     "text": [
      "count 5:of in \n",
      "\n",
      "count 4:the \n",
      "\n",
      "count 3:by path a \n",
      "\n",
      "count 2:are method analysis it and to be \n",
      "\n",
      "count 1:linear causal models conveniently developed coefficients proposed sewall wright. is useful making explicit rationale conventional regression calculations. may also have special usefulness sodology problems involving decomposition^ dependent variable or those which successive experiences cohort measured. focuses on problem interpretation does not purport for discovering causes. may, nevertheless, invaluable rendering interpretations explicit, self-consistent, susceptible rejection subsequent research. \n",
      "\n"
     ]
    }
   ],
   "source": [
    "for item in sorted(words_by_count.keys(), reverse = True):\n",
    "    print('count {}:'.format(item), end = '')\n",
    "    for word in words_by_count[item]:\n",
    "        print(word, end = ' ')\n",
    "    print('\\n')"
   ]
  },
  {
   "cell_type": "code",
   "execution_count": 27,
   "metadata": {},
   "outputs": [
    {
     "name": "stdout",
     "output_type": "stream",
     "text": [
      "[1, 2, 3, 4, 5]\n",
      "[56, 7, 3, 1, 2]\n"
     ]
    }
   ],
   "source": [
    "new_count = []\n",
    "occurences = sorted(words_by_count.keys())\n",
    "for occurence in occurences:\n",
    "    new_count.append(len(words_by_count[occurence]))\n",
    "print(sorted(words_by_count.keys()))\n",
    "print(new_count)"
   ]
  },
  {
   "cell_type": "code",
   "execution_count": 29,
   "metadata": {},
   "outputs": [
    {
     "data": {
      "text/plain": [
       "[<matplotlib.lines.Line2D at 0x13760c06128>]"
      ]
     },
     "execution_count": 29,
     "metadata": {},
     "output_type": "execute_result"
    },
    {
     "data": {
      "image/png": "[encoded data removed]",
      "text/plain": [
       "<Figure size 432x288 with 1 Axes>"
      ]
     },
     "metadata": {
      "needs_background": "light"
     },
     "output_type": "display_data"
    }
   ],
   "source": [
    "import matplotlib.pyplot as plt\n",
    "plt.plot(occurences, new_count)"
   ]
  },
  {
   "cell_type": "code",
   "execution_count": 30,
   "metadata": {},
   "outputs": [
    {
     "name": "stdout",
     "output_type": "stream",
     "text": [
      "1 2\n"
     ]
    }
   ],
   "source": [
    "x, y = 1, 2\n",
    "print(x, y)"
   ]
  },
  {
   "cell_type": "code",
   "execution_count": 31,
   "metadata": {},
   "outputs": [
    {
     "name": "stdout",
     "output_type": "stream",
     "text": [
      "2 1\n"
     ]
    }
   ],
   "source": [
    "x, y = y, x\n",
    "print(x,y)"
   ]
  },
  {
   "cell_type": "code",
   "execution_count": 32,
   "metadata": {},
   "outputs": [],
   "source": [
    "r= 1, 2, 3"
   ]
  },
  {
   "cell_type": "code",
   "execution_count": 33,
   "metadata": {},
   "outputs": [
    {
     "data": {
      "text/plain": [
       "(1, 2, 3)"
      ]
     },
     "execution_count": 33,
     "metadata": {},
     "output_type": "execute_result"
    }
   ],
   "source": [
    "r"
   ]
  },
  {
   "cell_type": "code",
   "execution_count": 34,
   "metadata": {},
   "outputs": [],
   "source": [
    "x, y, z = (1, 2, 3)"
   ]
  },
  {
   "cell_type": "code",
   "execution_count": 35,
   "metadata": {},
   "outputs": [
    {
     "name": "stdout",
     "output_type": "stream",
     "text": [
      "1 2 3\n"
     ]
    }
   ],
   "source": [
    "print(x, y, z)"
   ]
  },
  {
   "cell_type": "code",
   "execution_count": 36,
   "metadata": {},
   "outputs": [
    {
     "ename": "ValueError",
     "evalue": "too many values to unpack (expected 3)",
     "output_type": "error",
     "traceback": [
      "\u001b[1;31m---------------------------------------------------------------------------\u001b[0m",
      "\u001b[1;31mValueError\u001b[0m                                Traceback (most recent call last)",
      "\u001b[1;32m<ipython-input-36-fa60cb8a6b9a>\u001b[0m in \u001b[0;36m<module>\u001b[1;34m\u001b[0m\n\u001b[1;32m----> 1\u001b[1;33m \u001b[0mx\u001b[0m\u001b[1;33m,\u001b[0m \u001b[0my\u001b[0m\u001b[1;33m,\u001b[0m \u001b[0mz\u001b[0m \u001b[1;33m=\u001b[0m \u001b[1;36m1\u001b[0m\u001b[1;33m,\u001b[0m \u001b[1;36m2\u001b[0m\u001b[1;33m,\u001b[0m \u001b[1;36m3\u001b[0m\u001b[1;33m,\u001b[0m \u001b[1;36m4\u001b[0m\u001b[1;33m\u001b[0m\u001b[1;33m\u001b[0m\u001b[0m\n\u001b[0m",
      "\u001b[1;31mValueError\u001b[0m: too many values to unpack (expected 3)"
     ]
    }
   ],
   "source": [
    "x, y, z = 1, 2, 3, 4"
   ]
  },
  {
   "cell_type": "code",
   "execution_count": 37,
   "metadata": {},
   "outputs": [],
   "source": [
    "x, y, *r = 1, 2, 3, 4"
   ]
  },
  {
   "cell_type": "code",
   "execution_count": 38,
   "metadata": {},
   "outputs": [
    {
     "name": "stdout",
     "output_type": "stream",
     "text": [
      "1 2 [3, 4]\n"
     ]
    }
   ],
   "source": [
    "print(x, y, r)"
   ]
  },
  {
   "cell_type": "code",
   "execution_count": 39,
   "metadata": {},
   "outputs": [
    {
     "name": "stdout",
     "output_type": "stream",
     "text": [
      "1 [2, 3, 4, 5, 6, 7, 8] 9\n"
     ]
    }
   ],
   "source": [
    "x, *m, y = 1, 2, 3, 4, 5, 6, 7, 8, 9\n",
    "print(x, m, y)"
   ]
  },
  {
   "cell_type": "code",
   "execution_count": 40,
   "metadata": {},
   "outputs": [
    {
     "name": "stdout",
     "output_type": "stream",
     "text": [
      "H d ['e', 'l', 'l', 'o', ',', ' ', 'w', 'o', 'r', 'l']\n"
     ]
    }
   ],
   "source": [
    "x, *m, y ='Hello, world'\n",
    "print(x, y, m)"
   ]
  },
  {
   "cell_type": "code",
   "execution_count": 41,
   "metadata": {},
   "outputs": [
    {
     "name": "stdout",
     "output_type": "stream",
     "text": [
      "3 3\n"
     ]
    }
   ],
   "source": [
    "x = y = 3\n",
    "print(x, y)"
   ]
  },
  {
   "cell_type": "code",
   "execution_count": 43,
   "metadata": {},
   "outputs": [],
   "source": [
    "#x= y=3 donsen't equal to x=3 y=3"
   ]
  },
  {
   "cell_type": "code",
   "execution_count": 44,
   "metadata": {},
   "outputs": [
    {
     "name": "stdout",
     "output_type": "stream",
     "text": [
      "[0, 2] [0, 2]\n"
     ]
    }
   ],
   "source": [
    "x = y = [1, 2]\n",
    "x[0] = 0\n",
    "print(x, y)\n",
    "# y = [1, 2]\n",
    "# x = y"
   ]
  },
  {
   "cell_type": "code",
   "execution_count": 45,
   "metadata": {},
   "outputs": [
    {
     "data": {
      "text/plain": [
       "True"
      ]
     },
     "execution_count": 45,
     "metadata": {},
     "output_type": "execute_result"
    }
   ],
   "source": [
    "x is y"
   ]
  },
  {
   "cell_type": "code",
   "execution_count": 46,
   "metadata": {},
   "outputs": [
    {
     "data": {
      "text/plain": [
       "True"
      ]
     },
     "execution_count": 46,
     "metadata": {},
     "output_type": "execute_result"
    }
   ],
   "source": [
    "x == y"
   ]
  },
  {
   "cell_type": "code",
   "execution_count": 51,
   "metadata": {},
   "outputs": [
    {
     "data": {
      "text/plain": [
       "True"
      ]
     },
     "execution_count": 51,
     "metadata": {},
     "output_type": "execute_result"
    }
   ],
   "source": [
    "m = 3\n",
    "n = 3\n",
    "m is n"
   ]
  },
  {
   "cell_type": "code",
   "execution_count": 52,
   "metadata": {},
   "outputs": [
    {
     "data": {
      "text/plain": [
       "False"
      ]
     },
     "execution_count": 52,
     "metadata": {},
     "output_type": "execute_result"
    }
   ],
   "source": [
    "a = [3, 3]\n",
    "b = [3, 3]\n",
    "a is b"
   ]
  },
  {
   "cell_type": "code",
   "execution_count": 53,
   "metadata": {},
   "outputs": [
    {
     "data": {
      "text/plain": [
       "False"
      ]
     },
     "execution_count": 53,
     "metadata": {},
     "output_type": "execute_result"
    }
   ],
   "source": [
    "x = (1, 2)\n",
    "y = (1, 2)\n",
    "x is y"
   ]
  },
  {
   "cell_type": "code",
   "execution_count": 54,
   "metadata": {},
   "outputs": [
    {
     "data": {
      "text/plain": [
       "True"
      ]
     },
     "execution_count": 54,
     "metadata": {},
     "output_type": "execute_result"
    }
   ],
   "source": [
    "x ==y"
   ]
  },
  {
   "cell_type": "code",
   "execution_count": 55,
   "metadata": {},
   "outputs": [
    {
     "data": {
      "text/plain": [
       "True"
      ]
     },
     "execution_count": 55,
     "metadata": {},
     "output_type": "execute_result"
    }
   ],
   "source": [
    "x = 'hello'\n",
    "y = 'hello'\n",
    "x is y"
   ]
  },
  {
   "cell_type": "code",
   "execution_count": 56,
   "metadata": {},
   "outputs": [
    {
     "ename": "TypeError",
     "evalue": "'str' object does not support item assignment",
     "output_type": "error",
     "traceback": [
      "\u001b[1;31m---------------------------------------------------------------------------\u001b[0m",
      "\u001b[1;31mTypeError\u001b[0m                                 Traceback (most recent call last)",
      "\u001b[1;32m<ipython-input-56-2986dc9a8cc6>\u001b[0m in \u001b[0;36m<module>\u001b[1;34m\u001b[0m\n\u001b[1;32m----> 1\u001b[1;33m \u001b[0mx\u001b[0m\u001b[1;33m[\u001b[0m\u001b[1;36m0\u001b[0m\u001b[1;33m]\u001b[0m \u001b[1;33m=\u001b[0m \u001b[1;34m's'\u001b[0m\u001b[1;33m\u001b[0m\u001b[1;33m\u001b[0m\u001b[0m\n\u001b[0m",
      "\u001b[1;31mTypeError\u001b[0m: 'str' object does not support item assignment"
     ]
    }
   ],
   "source": [
    "x[0] = 's'"
   ]
  },
  {
   "cell_type": "code",
   "execution_count": 58,
   "metadata": {},
   "outputs": [
    {
     "name": "stdout",
     "output_type": "stream",
     "text": [
      "1\n"
     ]
    }
   ],
   "source": [
    "a = 0\n",
    "a += 1\n",
    "print(a)"
   ]
  },
  {
   "cell_type": "code",
   "execution_count": 65,
   "metadata": {},
   "outputs": [
    {
     "name": "stdout",
     "output_type": "stream",
     "text": [
      "True\n",
      "[1, 2, 3] \n",
      " [1, 2]\n",
      "False\n"
     ]
    }
   ],
   "source": [
    "a = [1, 2]\n",
    "b = a\n",
    "print(a is b)\n",
    "a = a + [3]\n",
    "print(a, '\\n', b)\n",
    "print(a is b)"
   ]
  },
  {
   "cell_type": "code",
   "execution_count": 64,
   "metadata": {},
   "outputs": [
    {
     "name": "stdout",
     "output_type": "stream",
     "text": [
      "True\n",
      "[1, 2, 3] \n",
      " [1, 2, 3]\n",
      "True\n"
     ]
    }
   ],
   "source": [
    "a = [1, 2]\n",
    "b = a\n",
    "print(a is b)\n",
    "a += [3]\n",
    "print(a, '\\n', b)\n",
    "print(a is b)"
   ]
  },
  {
   "cell_type": "code",
   "execution_count": 66,
   "metadata": {},
   "outputs": [
    {
     "name": "stdout",
     "output_type": "stream",
     "text": [
      "[1, 2, 3]\n"
     ]
    }
   ],
   "source": [
    "if a > b:\n",
    "    print(a)\n",
    "#tab is 4 * space"
   ]
  },
  {
   "cell_type": "code",
   "execution_count": 67,
   "metadata": {},
   "outputs": [
    {
     "data": {
      "text/plain": [
       "2"
      ]
     },
     "execution_count": 67,
     "metadata": {},
     "output_type": "execute_result"
    }
   ],
   "source": [
    "#True False\n",
    "True + 1"
   ]
  },
  {
   "cell_type": "code",
   "execution_count": 68,
   "metadata": {},
   "outputs": [
    {
     "data": {
      "text/plain": [
       "1"
      ]
     },
     "execution_count": 68,
     "metadata": {},
     "output_type": "execute_result"
    }
   ],
   "source": [
    "int (True)"
   ]
  },
  {
   "cell_type": "code",
   "execution_count": 69,
   "metadata": {},
   "outputs": [
    {
     "data": {
      "text/plain": [
       "True"
      ]
     },
     "execution_count": 69,
     "metadata": {},
     "output_type": "execute_result"
    }
   ],
   "source": [
    "bool(3)"
   ]
  },
  {
   "cell_type": "code",
   "execution_count": 74,
   "metadata": {},
   "outputs": [
    {
     "data": {
      "text/plain": [
       "False"
      ]
     },
     "execution_count": 74,
     "metadata": {},
     "output_type": "execute_result"
    }
   ],
   "source": [
    "0, '', [], {}, None\n",
    "bool({})"
   ]
  },
  {
   "cell_type": "code",
   "execution_count": 75,
   "metadata": {},
   "outputs": [
    {
     "name": "stdin",
     "output_type": "stream",
     "text": [
      "Your name? \n"
     ]
    },
    {
     "name": "stdout",
     "output_type": "stream",
     "text": [
      "Don't you guys have names?\n"
     ]
    }
   ],
   "source": [
    "name = input('Your name?')\n",
    "if name:\n",
    "    print('hello,' + name)\n",
    "else:\n",
    "    print('Don\\'t you guys have names?')"
   ]
  },
  {
   "cell_type": "code",
   "execution_count": 77,
   "metadata": {},
   "outputs": [
    {
     "name": "stdout",
     "output_type": "stream",
     "text": [
      "3 3 0\n"
     ]
    }
   ],
   "source": [
    "def abs(a):\n",
    "    return a if a >= 0 else -a\n",
    "\n",
    "print(abs(-3), abs(3), abs(0))"
   ]
  },
  {
   "cell_type": "code",
   "execution_count": 78,
   "metadata": {},
   "outputs": [
    {
     "name": "stdin",
     "output_type": "stream",
     "text": [
      "Your name? \n"
     ]
    },
    {
     "name": "stdout",
     "output_type": "stream",
     "text": [
      "Don't you guys have names?\n"
     ]
    }
   ],
   "source": [
    "name = input('Your name?')\n",
    "print('hello,' + name if name else 'Don\\'t you guys have names?')"
   ]
  },
  {
   "cell_type": "code",
   "execution_count": 79,
   "metadata": {},
   "outputs": [
    {
     "data": {
      "text/plain": [
       "True"
      ]
     },
     "execution_count": 79,
     "metadata": {},
     "output_type": "execute_result"
    }
   ],
   "source": [
    "a = [1, 2, 3]\n",
    "1 in a"
   ]
  },
  {
   "cell_type": "code",
   "execution_count": 80,
   "metadata": {},
   "outputs": [
    {
     "name": "stdout",
     "output_type": "stream",
     "text": [
      "**********"
     ]
    }
   ],
   "source": [
    "for i in range(0, 10):\n",
    "    print('*', end = '')"
   ]
  },
  {
   "cell_type": "code",
   "execution_count": 82,
   "metadata": {},
   "outputs": [
    {
     "name": "stdin",
     "output_type": "stream",
     "text": [
      "Which year do you wanna know 3000\n"
     ]
    },
    {
     "name": "stdout",
     "output_type": "stream",
     "text": [
      "Not\n"
     ]
    }
   ],
   "source": [
    "year = int(input('Which year do you wanna know'))\n",
    "if year % 400 == 0:\n",
    "    print('Leap year')\n",
    "elif year % 100 == 0:\n",
    "    print('Not')\n",
    "elif year % 4 == 0:\n",
    "    print('Leap year')\n",
    "else:\n",
    "    print('Not')"
   ]
  },
  {
   "cell_type": "code",
   "execution_count": 84,
   "metadata": {},
   "outputs": [
    {
     "name": "stdin",
     "output_type": "stream",
     "text": [
      "Which year do you wanna know 39\n"
     ]
    },
    {
     "name": "stdout",
     "output_type": "stream",
     "text": [
      "Not\n"
     ]
    }
   ],
   "source": [
    "def leap_year(year):\n",
    "    if year % 400 == 0:\n",
    "        return True\n",
    "    elif year % 100 == 0:\n",
    "        return False\n",
    "    elif year % 4 == 0:\n",
    "        return True\n",
    "    else:\n",
    "        return False\n",
    "\n",
    "year = int(input('Which year do you wanna know'))\n",
    "print('Leap year' if leap_year(year) else 'Not')"
   ]
  },
  {
   "cell_type": "code",
   "execution_count": 85,
   "metadata": {},
   "outputs": [
    {
     "ename": "AssertionError",
     "evalue": "",
     "output_type": "error",
     "traceback": [
      "\u001b[1;31m---------------------------------------------------------------------------\u001b[0m",
      "\u001b[1;31mAssertionError\u001b[0m                            Traceback (most recent call last)",
      "\u001b[1;32m<ipython-input-85-f9f3157e3153>\u001b[0m in \u001b[0;36m<module>\u001b[1;34m\u001b[0m\n\u001b[1;32m----> 1\u001b[1;33m \u001b[1;32massert\u001b[0m\u001b[1;33m(\u001b[0m\u001b[1;36m3\u001b[0m \u001b[1;33m==\u001b[0m \u001b[1;36m4\u001b[0m\u001b[1;33m)\u001b[0m\u001b[1;33m\u001b[0m\u001b[1;33m\u001b[0m\u001b[0m\n\u001b[0m",
      "\u001b[1;31mAssertionError\u001b[0m: "
     ]
    }
   ],
   "source": [
    "assert(3 == 4)"
   ]
  },
  {
   "cell_type": "code",
   "execution_count": 86,
   "metadata": {},
   "outputs": [],
   "source": [
    "assert(3 == 3)"
   ]
  },
  {
   "cell_type": "code",
   "execution_count": 91,
   "metadata": {},
   "outputs": [
    {
     "name": "stdout",
     "output_type": "stream",
     "text": [
      "Test OK.\n"
     ]
    }
   ],
   "source": [
    "def leap_year2(year):\n",
    "    assert(year>=0)\n",
    "    if (year % 400 == 0) or (year % 4 == 0 and year % 100):\n",
    "        return True\n",
    "    else:\n",
    "        return False\n",
    "    \n",
    "assert(leap_year2(2000))\n",
    "assert(leap_year2(1980))\n",
    "assert(leap_year2(2001) == False)\n",
    "assert(not leap_year2(1987))\n",
    "print('Test OK.')"
   ]
  },
  {
   "cell_type": "code",
   "execution_count": 92,
   "metadata": {},
   "outputs": [
    {
     "data": {
      "text/plain": [
       "'a'"
      ]
     },
     "execution_count": 92,
     "metadata": {},
     "output_type": "execute_result"
    }
   ],
   "source": [
    "chr(97)"
   ]
  },
  {
   "cell_type": "code",
   "execution_count": 93,
   "metadata": {},
   "outputs": [
    {
     "data": {
      "text/plain": [
       "'🙈'"
      ]
     },
     "execution_count": 93,
     "metadata": {},
     "output_type": "execute_result"
    }
   ],
   "source": [
    "chr(128584)"
   ]
  },
  {
   "cell_type": "code",
   "execution_count": 94,
   "metadata": {},
   "outputs": [
    {
     "name": "stdout",
     "output_type": "stream",
     "text": [
      "**********\n",
      "**********\n",
      "**********\n",
      "**********\n",
      "**********\n"
     ]
    }
   ],
   "source": [
    "for i in range(0, 5):\n",
    "    print('*' * 10)"
   ]
  },
  {
   "cell_type": "code",
   "execution_count": 95,
   "metadata": {},
   "outputs": [
    {
     "name": "stdout",
     "output_type": "stream",
     "text": [
      "**********\n",
      "**********\n",
      "**********\n",
      "**********\n",
      "**********\n"
     ]
    }
   ],
   "source": [
    "i = 0\n",
    "while i < 5:\n",
    "    print('*' * 10)\n",
    "    i += 1"
   ]
  },
  {
   "cell_type": "code",
   "execution_count": 97,
   "metadata": {},
   "outputs": [
    {
     "name": "stdout",
     "output_type": "stream",
     "text": [
      "\b                                                           *"
     ]
    }
   ],
   "source": [
    "import math\n",
    "x = 1\n",
    "while x<60:\n",
    "    print('\\b *', end='')\n",
    "    y = 0\n",
    "    while y < 500000:\n",
    "        z = math.sin(x) * math.exp(x)\n",
    "        y += 1\n",
    "    x += 1"
   ]
  },
  {
   "cell_type": "code",
   "execution_count": 98,
   "metadata": {},
   "outputs": [
    {
     "name": "stdout",
     "output_type": "stream",
     "text": [
      "\b                                                           *"
     ]
    }
   ],
   "source": [
    "import math\n",
    "def wait():\n",
    "    y = 0\n",
    "    while y < 500000:\n",
    "        z = math.sin(x) * math.exp(x)\n",
    "        y += 1\n",
    "x = 1\n",
    "while x<60:\n",
    "    print('\\b *', end='')\n",
    "    wait()\n",
    "    x += 1"
   ]
  },
  {
   "cell_type": "code",
   "execution_count": 100,
   "metadata": {},
   "outputs": [
    {
     "name": "stdout",
     "output_type": "stream",
     "text": [
      "\b                                                            *"
     ]
    }
   ],
   "source": [
    "import math\n",
    "def wait():\n",
    "    y = 0\n",
    "    while y < 500000:\n",
    "        z = math.sin(x) * math.exp(x)\n",
    "        y += 1\n",
    "x = 1\n",
    "for x in range(0, 60):\n",
    "    print('\\b *', end='')\n",
    "    wait()"
   ]
  },
  {
   "cell_type": "code",
   "execution_count": 101,
   "metadata": {},
   "outputs": [
    {
     "name": "stdout",
     "output_type": "stream",
     "text": [
      "['#', ' ', ' ', ' ', ' ', ' ', ' ', ' ', ' ', ' ', ' ', ' ', ' ', ' ', ' ', ' ', ' ', ' ', ' ', ' ', ' ', ' ', ' ', ' ', ' ', ' ', ' ', ' ', ' ', ' ', ' ', ' ', ' ', ' ', ' ', ' ', ' ', ' ', ' ', ' ', ' ', ' ', ' ', ' ', ' ', ' ', ' ', ' ', ' ', ' ', ' ', ' ', ' ', ' ', ' ', ' ', ' ', ' ', ' ', ' ', ' ', ' ', ' ', ' ', ' ', ' ', ' ', ' ', ' ', ' ', ' ', ' ', ' ', ' ', ' ', ' ', ' ', ' ', ' ', '*']\r"
     ]
    }
   ],
   "source": [
    "import math\n",
    "length = 80\n",
    "def wait():\n",
    "    y = 0\n",
    "    while y < 500000:\n",
    "        z = math.sin(x) * math.exp(x)\n",
    "        y += 1\n",
    "        \n",
    "bar = list()\n",
    "for i in range(0, length):\n",
    "    bar.append(' ')\n",
    "x =0\n",
    "y = 79\n",
    "\n",
    "for i in range(0,length):\n",
    "    bar[x] = '*'\n",
    "    bar[y] = '#'\n",
    "    print(bar, end='')\n",
    "    wait()\n",
    "    bar[x] = ' '\n",
    "    bar[y] = ' '\n",
    "    x += 1\n",
    "    y -= 1\n",
    "    print('\\r', end = '')"
   ]
  },
  {
   "cell_type": "code",
   "execution_count": null,
   "metadata": {},
   "outputs": [],
   "source": []
  }
 ],
 "metadata": {
  "kernelspec": {
   "display_name": "Python 3",
   "language": "python",
   "name": "python3"
  },
  "language_info": {
   "codemirror_mode": {
    "name": "ipython",
    "version": 3
   },
   "file_extension": ".py",
   "mimetype": "text/x-python",
   "name": "python",
   "nbconvert_exporter": "python",
   "pygments_lexer": "ipython3",
   "version": "3.7.3"
  }
 },
 "nbformat": 4,
 "nbformat_minor": 4
}
