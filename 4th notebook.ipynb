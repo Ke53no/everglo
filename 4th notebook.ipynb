{
 "cells": [
  {
   "cell_type": "code",
   "execution_count": 3,
   "metadata": {},
   "outputs": [],
   "source": [
    "str = 'hello, world'"
   ]
  },
  {
   "cell_type": "code",
   "execution_count": 4,
   "metadata": {},
   "outputs": [
    {
     "data": {
      "text/plain": [
       "','"
      ]
     },
     "execution_count": 4,
     "metadata": {},
     "output_type": "execute_result"
    }
   ],
   "source": [
    "str[5]"
   ]
  },
  {
   "cell_type": "code",
   "execution_count": 5,
   "metadata": {},
   "outputs": [
    {
     "data": {
      "text/plain": [
       "12"
      ]
     },
     "execution_count": 5,
     "metadata": {},
     "output_type": "execute_result"
    }
   ],
   "source": [
    "len(str)"
   ]
  },
  {
   "cell_type": "code",
   "execution_count": 6,
   "metadata": {},
   "outputs": [
    {
     "ename": "IndexError",
     "evalue": "string index out of range",
     "output_type": "error",
     "traceback": [
      "\u001b[1;31m---------------------------------------------------------------------------\u001b[0m",
      "\u001b[1;31mIndexError\u001b[0m                                Traceback (most recent call last)",
      "\u001b[1;32m<ipython-input-6-a13f5f3d0163>\u001b[0m in \u001b[0;36m<module>\u001b[1;34m\u001b[0m\n\u001b[1;32m----> 1\u001b[1;33m \u001b[0mstr\u001b[0m\u001b[1;33m[\u001b[0m\u001b[1;36m12\u001b[0m\u001b[1;33m]\u001b[0m\u001b[1;33m\u001b[0m\u001b[1;33m\u001b[0m\u001b[0m\n\u001b[0m",
      "\u001b[1;31mIndexError\u001b[0m: string index out of range"
     ]
    }
   ],
   "source": [
    "str[12]"
   ]
  },
  {
   "cell_type": "code",
   "execution_count": 7,
   "metadata": {},
   "outputs": [
    {
     "data": {
      "text/plain": [
       "'w'"
      ]
     },
     "execution_count": 7,
     "metadata": {},
     "output_type": "execute_result"
    }
   ],
   "source": [
    "max(str)"
   ]
  },
  {
   "cell_type": "code",
   "execution_count": 9,
   "metadata": {},
   "outputs": [
    {
     "name": "stdout",
     "output_type": "stream",
     "text": [
      "HELLO, WORLD\n"
     ]
    }
   ],
   "source": [
    "print(str.upper())"
   ]
  },
  {
   "cell_type": "code",
   "execution_count": 10,
   "metadata": {},
   "outputs": [
    {
     "name": "stdout",
     "output_type": "stream",
     "text": [
      "hello, world\n"
     ]
    }
   ],
   "source": [
    "print(str.lower())"
   ]
  },
  {
   "cell_type": "code",
   "execution_count": 11,
   "metadata": {},
   "outputs": [
    {
     "name": "stdout",
     "output_type": "stream",
     "text": [
      "Hello, World\n"
     ]
    }
   ],
   "source": [
    "print(str.title())"
   ]
  },
  {
   "cell_type": "code",
   "execution_count": 12,
   "metadata": {},
   "outputs": [
    {
     "name": "stdout",
     "output_type": "stream",
     "text": [
      "hello, yg\n"
     ]
    }
   ],
   "source": [
    "str = 'hello, '\n",
    "name = 'yg'\n",
    "print(str + name)"
   ]
  },
  {
   "cell_type": "code",
   "execution_count": 13,
   "metadata": {},
   "outputs": [
    {
     "data": {
      "text/plain": [
       "'yhello, g'"
      ]
     },
     "execution_count": 13,
     "metadata": {},
     "output_type": "execute_result"
    }
   ],
   "source": [
    "str.join(name)"
   ]
  },
  {
   "cell_type": "code",
   "execution_count": 14,
   "metadata": {},
   "outputs": [
    {
     "data": {
      "text/plain": [
       "'hygeyglyglygoyg,yg '"
      ]
     },
     "execution_count": 14,
     "metadata": {},
     "output_type": "execute_result"
    }
   ],
   "source": [
    "name.join(str)"
   ]
  },
  {
   "cell_type": "code",
   "execution_count": 16,
   "metadata": {},
   "outputs": [
    {
     "name": "stdout",
     "output_type": "stream",
     "text": [
      "1 + 2 + 3 + 4 + 5\n"
     ]
    }
   ],
   "source": [
    "numbers = '12345'\n",
    "print(' + '.join(numbers))"
   ]
  },
  {
   "cell_type": "code",
   "execution_count": 18,
   "metadata": {},
   "outputs": [
    {
     "name": "stdout",
     "output_type": "stream",
     "text": [
      "Hello, world\n"
     ]
    }
   ],
   "source": [
    "print('Hello, %s'%'world')"
   ]
  },
  {
   "cell_type": "code",
   "execution_count": 20,
   "metadata": {},
   "outputs": [
    {
     "name": "stdout",
     "output_type": "stream",
     "text": [
      "9 = 3 * 3\n",
      "9 = 3 * 3\n"
     ]
    }
   ],
   "source": [
    "x = 3\n",
    "print('{} = {} * {}'.format(x * x, x, x))\n",
    "print('{1} = {0} * {0}'.format(x, x * x))"
   ]
  },
  {
   "cell_type": "code",
   "execution_count": 23,
   "metadata": {},
   "outputs": [
    {
     "name": "stdout",
     "output_type": "stream",
     "text": [
      "my name is yg, my age is 51\n",
      "my name is yg, my age is 51\n"
     ]
    }
   ],
   "source": [
    "print('my name is {name}, my age is {age}'.format(name='yg',age=51))\n",
    "name = 'yg'\n",
    "age = 51\n",
    "print(f'my name is {name}, my age is {age}')"
   ]
  },
  {
   "cell_type": "code",
   "execution_count": 24,
   "metadata": {},
   "outputs": [
    {
     "data": {
      "text/plain": [
       "'   hello   '"
      ]
     },
     "execution_count": 24,
     "metadata": {},
     "output_type": "execute_result"
    }
   ],
   "source": [
    "'hello'.center(11)"
   ]
  },
  {
   "cell_type": "code",
   "execution_count": 25,
   "metadata": {},
   "outputs": [
    {
     "data": {
      "text/plain": [
       "'***hello***'"
      ]
     },
     "execution_count": 25,
     "metadata": {},
     "output_type": "execute_result"
    }
   ],
   "source": [
    "'hello'.center(11, '*')"
   ]
  },
  {
   "cell_type": "code",
   "execution_count": 28,
   "metadata": {},
   "outputs": [
    {
     "name": "stdout",
     "output_type": "stream",
     "text": [
      "****************************************\n",
      "***          Hello, world!           ***\n",
      "****************************************\n"
     ]
    }
   ],
   "source": [
    "print('*' * 40)\n",
    "print('Hello, world!'.center(34).center(40, \"*\"))\n",
    "print('*' * 40)"
   ]
  },
  {
   "cell_type": "code",
   "execution_count": 38,
   "metadata": {},
   "outputs": [
    {
     "name": "stdout",
     "output_type": "stream",
     "text": [
      "33\n"
     ]
    }
   ],
   "source": [
    "file_path = r'C:\\Users\\22939\\Documents\\2ndClass.ipynb'\n",
    "index = file_path.find('.')\n",
    "print(index)"
   ]
  },
  {
   "cell_type": "code",
   "execution_count": 39,
   "metadata": {},
   "outputs": [
    {
     "data": {
      "text/plain": [
       "'ipynb'"
      ]
     },
     "execution_count": 39,
     "metadata": {},
     "output_type": "execute_result"
    }
   ],
   "source": [
    "file_path[index + 1:]"
   ]
  },
  {
   "cell_type": "code",
   "execution_count": 36,
   "metadata": {},
   "outputs": [
    {
     "data": {
      "text/plain": [
       "24"
      ]
     },
     "execution_count": 36,
     "metadata": {},
     "output_type": "execute_result"
    }
   ],
   "source": [
    "file_path.rfind('\\\\')"
   ]
  },
  {
   "cell_type": "code",
   "execution_count": 40,
   "metadata": {},
   "outputs": [
    {
     "data": {
      "text/plain": [
       "'2ndClass'"
      ]
     },
     "execution_count": 40,
     "metadata": {},
     "output_type": "execute_result"
    }
   ],
   "source": [
    "file_path[file_path.rfind('\\\\') + 1: file_path.find('.')]"
   ]
  },
  {
   "cell_type": "code",
   "execution_count": 5,
   "metadata": {},
   "outputs": [
    {
     "name": "stdin",
     "output_type": "stream",
     "text": [
      "do you wanna build a snowman? YES\n"
     ]
    },
    {
     "name": "stdout",
     "output_type": "stream",
     "text": [
      "Alright.\n"
     ]
    }
   ],
   "source": [
    "answer = input('do you wanna build a snowman?')\n",
    "if answer.lower() == 'yes':\n",
    "    print('Alright.')"
   ]
  },
  {
   "cell_type": "code",
   "execution_count": 2,
   "metadata": {},
   "outputs": [
    {
     "data": {
      "text/plain": [
       "'Hello'"
      ]
     },
     "execution_count": 2,
     "metadata": {},
     "output_type": "execute_result"
    }
   ],
   "source": [
    "'hello'.replace('h', \"H\")"
   ]
  },
  {
   "cell_type": "code",
   "execution_count": 4,
   "metadata": {},
   "outputs": [
    {
     "data": {
      "text/plain": [
       "'Hello, yg'"
      ]
     },
     "execution_count": 4,
     "metadata": {},
     "output_type": "execute_result"
    }
   ],
   "source": [
    "'Hello, #name#'.replace('#name#', 'yg')"
   ]
  },
  {
   "cell_type": "raw",
   "metadata": {},
   "source": [
    "names = ['zhangsan', 'lisi', 'wangwu', 'maliu']\n",
    "scores = [100, 90, 80, 70]\n",
    "name = input('Please input a name').lower()\n",
    "print(scores[names.index(name)])"
   ]
  },
  {
   "cell_type": "code",
   "execution_count": 11,
   "metadata": {},
   "outputs": [
    {
     "name": "stdin",
     "output_type": "stream",
     "text": [
      "Give a name. zhangsan\n"
     ]
    },
    {
     "name": "stdout",
     "output_type": "stream",
     "text": [
      "100\n"
     ]
    }
   ],
   "source": [
    "scores = {'zhangsan':100, 'lisi':90, 'wangwu':80, 'maliu':70}\n",
    "name = input('Give a name.')\n",
    "print(scores[name])"
   ]
  },
  {
   "cell_type": "code",
   "execution_count": 21,
   "metadata": {},
   "outputs": [
    {
     "name": "stdout",
     "output_type": "stream",
     "text": [
      "{'zhangsan': 100}\n",
      "100\n"
     ]
    }
   ],
   "source": [
    "scores = {}\n",
    "scores = dict()\n",
    "scores['zhangsan'] = 100\n",
    "print(scores)\n",
    "print(scores['zhangsan'])"
   ]
  },
  {
   "cell_type": "code",
   "execution_count": 16,
   "metadata": {},
   "outputs": [
    {
     "data": {
      "text/plain": [
       "True"
      ]
     },
     "execution_count": 16,
     "metadata": {},
     "output_type": "execute_result"
    }
   ],
   "source": [
    "'zhangsan' in scores"
   ]
  },
  {
   "cell_type": "code",
   "execution_count": 17,
   "metadata": {},
   "outputs": [
    {
     "data": {
      "text/plain": [
       "False"
      ]
     },
     "execution_count": 17,
     "metadata": {},
     "output_type": "execute_result"
    }
   ],
   "source": [
    "'lisi' in scores"
   ]
  },
  {
   "cell_type": "code",
   "execution_count": 18,
   "metadata": {},
   "outputs": [
    {
     "name": "stdin",
     "output_type": "stream",
     "text": [
      "Give me a name. lisl\n"
     ]
    },
    {
     "name": "stdout",
     "output_type": "stream",
     "text": [
      "Name not found.\n"
     ]
    }
   ],
   "source": [
    "name = input('Give me a name.')\n",
    "if name in scores:\n",
    "    print(scores[name])\n",
    "else:\n",
    "    print('Name not found.')"
   ]
  },
  {
   "cell_type": "code",
   "execution_count": 22,
   "metadata": {},
   "outputs": [
    {
     "name": "stdout",
     "output_type": "stream",
     "text": [
      "{}\n"
     ]
    }
   ],
   "source": [
    "del scores['zhangsan']\n",
    "print(scores)"
   ]
  },
  {
   "cell_type": "code",
   "execution_count": 23,
   "metadata": {},
   "outputs": [
    {
     "data": {
      "text/plain": [
       "{}"
      ]
     },
     "execution_count": 23,
     "metadata": {},
     "output_type": "execute_result"
    }
   ],
   "source": [
    "s2 = scores\n",
    "s2"
   ]
  },
  {
   "cell_type": "code",
   "execution_count": 24,
   "metadata": {},
   "outputs": [
    {
     "name": "stdout",
     "output_type": "stream",
     "text": [
      "{'zhangsan': 100}\n"
     ]
    }
   ],
   "source": [
    "s2['zhangsan'] = 100\n",
    "print(scores)"
   ]
  },
  {
   "cell_type": "code",
   "execution_count": 25,
   "metadata": {},
   "outputs": [
    {
     "name": "stdout",
     "output_type": "stream",
     "text": [
      "{'zhangsan': None, 'lisi': None, 'wangwu': None, 'maliu': None}\n"
     ]
    }
   ],
   "source": [
    "scores = {}.fromkeys(['zhangsan', 'lisi', 'wangwu', 'maliu'])\n",
    "print(scores)"
   ]
  },
  {
   "cell_type": "code",
   "execution_count": 26,
   "metadata": {},
   "outputs": [
    {
     "name": "stdout",
     "output_type": "stream",
     "text": [
      "{'zhangsan': 100, 'lisi': 100, 'wangwu': 100, 'maliu': 100}\n"
     ]
    }
   ],
   "source": [
    "scores = {}.fromkeys(['zhangsan', 'lisi', 'wangwu', 'maliu'], 100)\n",
    "print(scores)"
   ]
  },
  {
   "cell_type": "code",
   "execution_count": 28,
   "metadata": {},
   "outputs": [
    {
     "name": "stdout",
     "output_type": "stream",
     "text": [
      "{'a': 3, 'e': 2, 'i': 1, 'o': 3, 'u': 2}\n"
     ]
    }
   ],
   "source": [
    "str = 'a quike fox jump over a lazy dog.'\n",
    "count = dict.fromkeys('aeiou', 0)\n",
    "for ch in str:\n",
    "    if ch in 'aeiou':\n",
    "        count[ch] += 1\n",
    "print(count)"
   ]
  },
  {
   "cell_type": "code",
   "execution_count": 29,
   "metadata": {},
   "outputs": [
    {
     "name": "stdout",
     "output_type": "stream",
     "text": [
      "None\n",
      "3\n"
     ]
    }
   ],
   "source": [
    "print(count.get('b'))\n",
    "print(count.get('a'))"
   ]
  },
  {
   "cell_type": "code",
   "execution_count": 31,
   "metadata": {},
   "outputs": [
    {
     "name": "stdin",
     "output_type": "stream",
     "text": [
      "Please input a name: zhangsan\n",
      "Please input his/her score: 100\n"
     ]
    },
    {
     "name": "stdout",
     "output_type": "stream",
     "text": [
      "zhangsan's score is 100\n"
     ]
    }
   ],
   "source": [
    "student = dict.fromkeys(['name', 'score'])\n",
    "student['name'] = input('Please input a name:')\n",
    "student['scores'] = int(input('Please input his/her score:'))\n",
    "print('{}\\'s score is {}'.format(student['name'],student['scores']))"
   ]
  },
  {
   "cell_type": "code",
   "execution_count": 37,
   "metadata": {},
   "outputs": [
    {
     "name": "stdout",
     "output_type": "stream",
     "text": [
      "['SanZhao', 'SanQian', 'SanSun', 'SanLi', 'SanZhou', 'SanWu', 'SanZheng', 'SanWang', 'SiZhao', 'SiQian', 'SiSun', 'SiLi', 'SiZhou', 'SiWu', 'SiZheng', 'SiWang', 'WuZhao', 'WuQian', 'WuSun', 'WuLi', 'WuZhou', 'WuWu', 'WuZheng', 'WuWang', 'LiuZhao', 'LiuQian', 'LiuSun', 'LiuLi', 'LiuZhou', 'LiuWu', 'LiuZheng', 'LiuWang', 'JiaZhao', 'JiaQian', 'JiaSun', 'JiaLi', 'JiaZhou', 'JiaWu', 'JiaZheng', 'JiaWang', 'YiZhao', 'YiQian', 'YiSun', 'YiLi', 'YiZhou', 'YiWu', 'YiZheng', 'YiWang', 'BingZhao', 'BingQian', 'BingSun', 'BingLi', 'BingZhou', 'BingWu', 'BingZheng', 'BingWang', 'DingZhao', 'DingQian', 'DingSun', 'DingLi', 'DingZhou', 'DingWu', 'DingZheng', 'DingWang']\n"
     ]
    },
    {
     "data": {
      "text/plain": [
       "64"
      ]
     },
     "execution_count": 37,
     "metadata": {},
     "output_type": "execute_result"
    }
   ],
   "source": [
    "first_names = ['San', 'Si', 'Wu', 'Liu', 'Jia', 'Yi', 'Bing', 'Ding']\n",
    "last_names = ['Zhao', 'Qian', 'Sun', 'Li', 'Zhou', 'Wu', 'Zheng', 'Wang']\n",
    "names = list()\n",
    "\n",
    "for first_name in first_names:\n",
    "    for last_name in last_names:\n",
    "        names.append(first_name + last_name)\n",
    "        \n",
    "print(names)\n",
    "len(names)"
   ]
  },
  {
   "cell_type": "code",
   "execution_count": 38,
   "metadata": {},
   "outputs": [
    {
     "data": {
      "text/plain": [
       "'WuZheng'"
      ]
     },
     "execution_count": 38,
     "metadata": {},
     "output_type": "execute_result"
    }
   ],
   "source": [
    "import random\n",
    "random.choice(names)"
   ]
  },
  {
   "cell_type": "code",
   "execution_count": 46,
   "metadata": {},
   "outputs": [
    {
     "name": "stdout",
     "output_type": "stream",
     "text": [
      "42 74 92 15 93 15 63 6 29 72 77 16 35 70 36 63 75 76 46 0 97 53 7 26 80 29 38 25 74 94 44 65 42 75 30 88 41 89 7 18 34 41 80 69 19 62 51 89 73 91 46 73 93 86 66 88 32 41 96 93 36 35 19 80 20 92 18 29 27 76 10 39 13 88 75 24 70 60 99 43 15 51 55 21 87 36 54 37 70 59 54 19 35 75 86 31 34 73 65 75 "
     ]
    }
   ],
   "source": [
    "for i in range(0,100):\n",
    "    score = random.randint(0, 100)\n",
    "    print(score, end = ' ')"
   ]
  },
  {
   "cell_type": "code",
   "execution_count": 50,
   "metadata": {},
   "outputs": [
    {
     "name": "stdout",
     "output_type": "stream",
     "text": [
      "100 89 82 89 72 80 100 77 67 21 81 55 76 57 62 26 77 100 88 82 89 89 94 56 95 68 75 60 68 85 97 76 49 52 86 64 78 100 72 69 100 72 79 68 83 72 84 90 70 78 99 32 77 65 60 72 100 65 55 56 63 75 100 43 100 74 100 94 69 67 100 80 78 100 60 66 55 74 100 82 100 85 87 68 95 47 100 80 100 72 100 58 72 82 77 55 96 86 99 100 "
     ]
    }
   ],
   "source": [
    "import math\n",
    "for i in range(0,100):\n",
    "    score = math.ceil(random.gauss(75, 20))\n",
    "    if score > 100: score = 100\n",
    "    elif score < 0 : score = 0\n",
    "    print(score, end = ' ')"
   ]
  },
  {
   "cell_type": "code",
   "execution_count": 52,
   "metadata": {},
   "outputs": [
    {
     "name": "stdout",
     "output_type": "stream",
     "text": [
      "{'SanZhao': {'Physics': 58, 'Math': 87, 'Python': 56}, 'SanQian': {'Physics': 71, 'Math': 99, 'Python': 9}, 'SanSun': {'Physics': 65, 'Math': 56, 'Python': 76}, 'SanLi': {'Physics': 100, 'Math': 80, 'Python': 91}, 'SanZhou': {'Physics': 66, 'Math': 68, 'Python': 88}, 'SanWu': {'Physics': 98, 'Math': 59, 'Python': 39}, 'SanZheng': {'Physics': 61, 'Math': 84, 'Python': 54}, 'SanWang': {'Physics': 88, 'Math': 93, 'Python': 29}, 'SiZhao': {'Physics': 53, 'Math': 43, 'Python': 41}, 'SiQian': {'Physics': 73, 'Math': 60, 'Python': 67}, 'SiSun': {'Physics': 34, 'Math': 90, 'Python': 77}, 'SiLi': {'Physics': 56, 'Math': 95, 'Python': 66}, 'SiZhou': {'Physics': 100, 'Math': 55, 'Python': 100}, 'SiWu': {'Physics': 25, 'Math': 61, 'Python': 94}, 'SiZheng': {'Physics': 100, 'Math': 45, 'Python': 71}, 'SiWang': {'Physics': 91, 'Math': 88, 'Python': 100}, 'WuZhao': {'Physics': 28, 'Math': 98, 'Python': 51}, 'WuQian': {'Physics': 94, 'Math': 71, 'Python': 87}, 'WuSun': {'Physics': 80, 'Math': 100, 'Python': 85}, 'WuLi': {'Physics': 77, 'Math': 71, 'Python': 67}, 'WuZhou': {'Physics': 97, 'Math': 64, 'Python': 71}, 'WuWu': {'Physics': 81, 'Math': 71, 'Python': 100}, 'WuZheng': {'Physics': 60, 'Math': 79, 'Python': 57}, 'WuWang': {'Physics': 77, 'Math': 85, 'Python': 44}, 'LiuZhao': {'Physics': 79, 'Math': 88, 'Python': 96}, 'LiuQian': {'Physics': 100, 'Math': 47, 'Python': 89}, 'LiuSun': {'Physics': 51, 'Math': 62, 'Python': 100}, 'LiuLi': {'Physics': 60, 'Math': 80, 'Python': 79}, 'LiuZhou': {'Physics': 90, 'Math': 56, 'Python': 73}, 'LiuWu': {'Physics': 65, 'Math': 76, 'Python': 81}, 'LiuZheng': {'Physics': 68, 'Math': 75, 'Python': 63}, 'LiuWang': {'Physics': 85, 'Math': 60, 'Python': 69}, 'JiaZhao': {'Physics': 71, 'Math': 53, 'Python': 70}, 'JiaQian': {'Physics': 91, 'Math': 78, 'Python': 100}, 'JiaSun': {'Physics': 56, 'Math': 74, 'Python': 68}, 'JiaLi': {'Physics': 91, 'Math': 12, 'Python': 95}, 'JiaZhou': {'Physics': 69, 'Math': 100, 'Python': 96}, 'JiaWu': {'Physics': 62, 'Math': 100, 'Python': 100}, 'JiaZheng': {'Physics': 58, 'Math': 77, 'Python': 59}, 'JiaWang': {'Physics': 74, 'Math': 59, 'Python': 47}, 'YiZhao': {'Physics': 84, 'Math': 49, 'Python': 32}, 'YiQian': {'Physics': 65, 'Math': 69, 'Python': 85}, 'YiSun': {'Physics': 84, 'Math': 56, 'Python': 65}, 'YiLi': {'Physics': 66, 'Math': 77, 'Python': 70}, 'YiZhou': {'Physics': 68, 'Math': 54, 'Python': 78}, 'YiWu': {'Physics': 59, 'Math': 66, 'Python': 70}, 'YiZheng': {'Physics': 84, 'Math': 83, 'Python': 73}, 'YiWang': {'Physics': 89, 'Math': 82, 'Python': 58}, 'BingZhao': {'Physics': 77, 'Math': 100, 'Python': 82}, 'BingQian': {'Physics': 63, 'Math': 42, 'Python': 32}, 'BingSun': {'Physics': 100, 'Math': 48, 'Python': 84}, 'BingLi': {'Physics': 73, 'Math': 73, 'Python': 55}, 'BingZhou': {'Physics': 90, 'Math': 100, 'Python': 64}, 'BingWu': {'Physics': 82, 'Math': 100, 'Python': 91}, 'BingZheng': {'Physics': 60, 'Math': 75, 'Python': 90}, 'BingWang': {'Physics': 64, 'Math': 91, 'Python': 30}, 'DingZhao': {'Physics': 80, 'Math': 82, 'Python': 63}, 'DingQian': {'Physics': 79, 'Math': 66, 'Python': 66}, 'DingSun': {'Physics': 87, 'Math': 98, 'Python': 36}, 'DingLi': {'Physics': 65, 'Math': 80, 'Python': 95}, 'DingZhou': {'Physics': 68, 'Math': 80, 'Python': 99}, 'DingWu': {'Physics': 94, 'Math': 80, 'Python': 75}, 'DingZheng': {'Physics': 75, 'Math': 41, 'Python': 76}, 'DingWang': {'Physics': 73, 'Math': 54, 'Python': 65}}\n"
     ]
    }
   ],
   "source": [
    "score_db = {}\n",
    "score_template = {}.fromkeys(['Physics', 'Math', 'Python'])\n",
    "for name in names:\n",
    "    scores = score_template.copy()\n",
    "    \n",
    "    score = math.ceil(random.gauss(75, 20))\n",
    "    if score > 100: score = 100\n",
    "    elif score < 0 : score = 0    \n",
    "    scores['Physics'] = score\n",
    "    \n",
    "    score = math.ceil(random.gauss(75, 20))\n",
    "    if score > 100: score = 100\n",
    "    elif score < 0 : score = 0    \n",
    "    scores['Math'] = score\n",
    "\n",
    "    score = math.ceil(random.gauss(75, 20))\n",
    "    if score > 100: score = 100\n",
    "    elif score < 0 : score = 0    \n",
    "    scores['Python'] = score\n",
    "    \n",
    "    score_db[name] = scores\n",
    "    \n",
    "print(score_db)"
   ]
  },
  {
   "cell_type": "code",
   "execution_count": 55,
   "metadata": {},
   "outputs": [
    {
     "name": "stdout",
     "output_type": "stream",
     "text": [
      "7\n"
     ]
    }
   ],
   "source": [
    "def add(a, b):\n",
    "    return a + b\n",
    "print(add(3, 4))"
   ]
  },
  {
   "cell_type": "code",
   "execution_count": 57,
   "metadata": {},
   "outputs": [
    {
     "name": "stdout",
     "output_type": "stream",
     "text": [
      "{'BingLi': {'Math': 98, 'Physics': 100, 'Python': 59},\n",
      " 'BingQian': {'Math': 77, 'Physics': 100, 'Python': 67},\n",
      " 'BingSun': {'Math': 100, 'Physics': 84, 'Python': 75},\n",
      " 'BingWang': {'Math': 100, 'Physics': 100, 'Python': 68},\n",
      " 'BingWu': {'Math': 59, 'Physics': 74, 'Python': 74},\n",
      " 'BingZhao': {'Math': 71, 'Physics': 46, 'Python': 70},\n",
      " 'BingZheng': {'Math': 82, 'Physics': 71, 'Python': 54},\n",
      " 'BingZhou': {'Math': 44, 'Physics': 59, 'Python': 60},\n",
      " 'DingLi': {'Math': 60, 'Physics': 54, 'Python': 58},\n",
      " 'DingQian': {'Math': 48, 'Physics': 67, 'Python': 74},\n",
      " 'DingSun': {'Math': 78, 'Physics': 69, 'Python': 47},\n",
      " 'DingWang': {'Math': 63, 'Physics': 73, 'Python': 97},\n",
      " 'DingWu': {'Math': 76, 'Physics': 58, 'Python': 84},\n",
      " 'DingZhao': {'Math': 94, 'Physics': 68, 'Python': 100},\n",
      " 'DingZheng': {'Math': 76, 'Physics': 38, 'Python': 98},\n",
      " 'DingZhou': {'Math': 77, 'Physics': 100, 'Python': 47},\n",
      " 'JiaLi': {'Math': 62, 'Physics': 100, 'Python': 50},\n",
      " 'JiaQian': {'Math': 65, 'Physics': 100, 'Python': 61},\n",
      " 'JiaSun': {'Math': 74, 'Physics': 100, 'Python': 90},\n",
      " 'JiaWang': {'Math': 73, 'Physics': 68, 'Python': 83},\n",
      " 'JiaWu': {'Math': 88, 'Physics': 57, 'Python': 46},\n",
      " 'JiaZhao': {'Math': 70, 'Physics': 89, 'Python': 11},\n",
      " 'JiaZheng': {'Math': 57, 'Physics': 53, 'Python': 66},\n",
      " 'JiaZhou': {'Math': 81, 'Physics': 71, 'Python': 28},\n",
      " 'LiuLi': {'Math': 76, 'Physics': 69, 'Python': 69},\n",
      " 'LiuQian': {'Math': 85, 'Physics': 70, 'Python': 61},\n",
      " 'LiuSun': {'Math': 100, 'Physics': 45, 'Python': 92},\n",
      " 'LiuWang': {'Math': 95, 'Physics': 65, 'Python': 69},\n",
      " 'LiuWu': {'Math': 64, 'Physics': 92, 'Python': 89},\n",
      " 'LiuZhao': {'Math': 100, 'Physics': 77, 'Python': 61},\n",
      " 'LiuZheng': {'Math': 68, 'Physics': 100, 'Python': 90},\n",
      " 'LiuZhou': {'Math': 79, 'Physics': 57, 'Python': 69},\n",
      " 'SanLi': {'Math': 95, 'Physics': 66, 'Python': 78},\n",
      " 'SanQian': {'Math': 78, 'Physics': 80, 'Python': 92},\n",
      " 'SanSun': {'Math': 80, 'Physics': 51, 'Python': 100},\n",
      " 'SanWang': {'Math': 68, 'Physics': 80, 'Python': 67},\n",
      " 'SanWu': {'Math': 87, 'Physics': 100, 'Python': 97},\n",
      " 'SanZhao': {'Math': 32, 'Physics': 60, 'Python': 68},\n",
      " 'SanZheng': {'Math': 87, 'Physics': 93, 'Python': 74},\n",
      " 'SanZhou': {'Math': 54, 'Physics': 76, 'Python': 94},\n",
      " 'SiLi': {'Math': 100, 'Physics': 78, 'Python': 59},\n",
      " 'SiQian': {'Math': 76, 'Physics': 69, 'Python': 87},\n",
      " 'SiSun': {'Math': 51, 'Physics': 69, 'Python': 86},\n",
      " 'SiWang': {'Math': 77, 'Physics': 98, 'Python': 71},\n",
      " 'SiWu': {'Math': 65, 'Physics': 100, 'Python': 64},\n",
      " 'SiZhao': {'Math': 66, 'Physics': 70, 'Python': 55},\n",
      " 'SiZheng': {'Math': 49, 'Physics': 100, 'Python': 52},\n",
      " 'SiZhou': {'Math': 54, 'Physics': 78, 'Python': 76},\n",
      " 'WuLi': {'Math': 94, 'Physics': 57, 'Python': 64},\n",
      " 'WuQian': {'Math': 61, 'Physics': 64, 'Python': 81},\n",
      " 'WuSun': {'Math': 86, 'Physics': 100, 'Python': 84},\n",
      " 'WuWang': {'Math': 77, 'Physics': 56, 'Python': 39},\n",
      " 'WuWu': {'Math': 56, 'Physics': 71, 'Python': 100},\n",
      " 'WuZhao': {'Math': 100, 'Physics': 84, 'Python': 71},\n",
      " 'WuZheng': {'Math': 70, 'Physics': 36, 'Python': 75},\n",
      " 'WuZhou': {'Math': 87, 'Physics': 62, 'Python': 93},\n",
      " 'YiLi': {'Math': 96, 'Physics': 73, 'Python': 45},\n",
      " 'YiQian': {'Math': 72, 'Physics': 55, 'Python': 62},\n",
      " 'YiSun': {'Math': 71, 'Physics': 78, 'Python': 94},\n",
      " 'YiWang': {'Math': 64, 'Physics': 72, 'Python': 34},\n",
      " 'YiWu': {'Math': 100, 'Physics': 72, 'Python': 83},\n",
      " 'YiZhao': {'Math': 55, 'Physics': 73, 'Python': 58},\n",
      " 'YiZheng': {'Math': 95, 'Physics': 80, 'Python': 89},\n",
      " 'YiZhou': {'Math': 38, 'Physics': 53, 'Python': 77}}\n"
     ]
    }
   ],
   "source": [
    "import pprint\n",
    "def random_score_creater():\n",
    "    score = math.ceil(random.gauss(75, 20))\n",
    "    if score > 100: score = 100\n",
    "    elif score < 0 : score = 0\n",
    "    return score\n",
    "        \n",
    "score_db = {}\n",
    "score_template = {}.fromkeys(['Physics', 'Math', 'Python'])\n",
    "for name in names:\n",
    "    scores = score_template.copy()\n",
    "      \n",
    "    scores['Physics'] = random_score_creater()\n",
    "    scores['Math'] = random_score_creater()\n",
    "    scores['Python'] = random_score_creater()\n",
    "    score_db[name] = scores\n",
    "    \n",
    "pprint.pprint(score_db)"
   ]
  },
  {
   "cell_type": "code",
   "execution_count": 62,
   "metadata": {},
   "outputs": [
    {
     "name": "stdin",
     "output_type": "stream",
     "text": [
      "Please input a name. WuWu\n"
     ]
    },
    {
     "name": "stdout",
     "output_type": "stream",
     "text": [
      "Physics:\t 71\n",
      "Math:\t\t 56\n",
      "Python:\t\t 100\n",
      "Total:\t\t 227\n"
     ]
    }
   ],
   "source": [
    "name = input('Please input a name.')\n",
    "if name in score_db:\n",
    "    print('Physics:\\t', score_db[name]['Physics'])\n",
    "    print('Math:\\t\\t', score_db[name]['Math'])\n",
    "    print('Python:\\t\\t', score_db[name]['Python'])\n",
    "    print('Total:\\t\\t', score_db[name]['Physics'] + score_db[name]['Math'] + score_db[name]['Python'])\n",
    "else:\n",
    "    print('Not found')"
   ]
  },
  {
   "cell_type": "code",
   "execution_count": 72,
   "metadata": {},
   "outputs": [
    {
     "name": "stdout",
     "output_type": "stream",
     "text": [
      "   Name\t\tPhysics\tMath\tPython\tTotal\t\n",
      " SanZhao  \t60\t32\t68\t160\n",
      " SanQian  \t80\t78\t92\t250\n",
      "  SanSun  \t51\t80\t100\t231\n",
      "  SanLi   \t66\t95\t78\t239\n",
      " SanZhou  \t76\t54\t94\t224\n",
      "  SanWu   \t100\t87\t97\t284\n",
      " SanZheng \t93\t87\t74\t254\n",
      " SanWang  \t80\t68\t67\t215\n",
      "  SiZhao  \t70\t66\t55\t191\n",
      "  SiQian  \t69\t76\t87\t232\n",
      "  SiSun   \t69\t51\t86\t206\n",
      "   SiLi   \t78\t100\t59\t237\n",
      "  SiZhou  \t78\t54\t76\t208\n",
      "   SiWu   \t100\t65\t64\t229\n",
      " SiZheng  \t100\t49\t52\t201\n",
      "  SiWang  \t98\t77\t71\t246\n",
      "  WuZhao  \t84\t100\t71\t255\n",
      "  WuQian  \t64\t61\t81\t206\n",
      "  WuSun   \t100\t86\t84\t270\n",
      "   WuLi   \t57\t94\t64\t215\n",
      "  WuZhou  \t62\t87\t93\t242\n",
      "   WuWu   \t71\t56\t100\t227\n",
      " WuZheng  \t36\t70\t75\t181\n",
      "  WuWang  \t56\t77\t39\t172\n",
      " LiuZhao  \t77\t100\t61\t238\n",
      " LiuQian  \t70\t85\t61\t216\n",
      "  LiuSun  \t45\t100\t92\t237\n",
      "  LiuLi   \t69\t76\t69\t214\n",
      " LiuZhou  \t57\t79\t69\t205\n",
      "  LiuWu   \t92\t64\t89\t245\n",
      " LiuZheng \t100\t68\t90\t258\n",
      " LiuWang  \t65\t95\t69\t229\n",
      " JiaZhao  \t89\t70\t11\t170\n",
      " JiaQian  \t100\t65\t61\t226\n",
      "  JiaSun  \t100\t74\t90\t264\n",
      "  JiaLi   \t100\t62\t50\t212\n",
      " JiaZhou  \t71\t81\t28\t180\n",
      "  JiaWu   \t57\t88\t46\t191\n",
      " JiaZheng \t53\t57\t66\t176\n",
      " JiaWang  \t68\t73\t83\t224\n",
      "  YiZhao  \t73\t55\t58\t186\n",
      "  YiQian  \t55\t72\t62\t189\n",
      "  YiSun   \t78\t71\t94\t243\n",
      "   YiLi   \t73\t96\t45\t214\n",
      "  YiZhou  \t53\t38\t77\t168\n",
      "   YiWu   \t72\t100\t83\t255\n",
      " YiZheng  \t80\t95\t89\t264\n",
      "  YiWang  \t72\t64\t34\t170\n",
      " BingZhao \t46\t71\t70\t187\n",
      " BingQian \t100\t77\t67\t244\n",
      " BingSun  \t84\t100\t75\t259\n",
      "  BingLi  \t100\t98\t59\t257\n",
      " BingZhou \t59\t44\t60\t163\n",
      "  BingWu  \t74\t59\t74\t207\n",
      "BingZheng \t71\t82\t54\t207\n",
      " BingWang \t100\t100\t68\t268\n",
      " DingZhao \t68\t94\t100\t262\n",
      " DingQian \t67\t48\t74\t189\n",
      " DingSun  \t69\t78\t47\t194\n",
      "  DingLi  \t54\t60\t58\t172\n",
      " DingZhou \t100\t77\t47\t224\n",
      "  DingWu  \t58\t76\t84\t218\n",
      "DingZheng \t38\t76\t98\t212\n",
      " DingWang \t73\t63\t97\t233\n",
      "Not found\n"
     ]
    }
   ],
   "source": [
    "print('   Name\\t\\tPhysics\\tMath\\tPython\\tTotal\\t')\n",
    "for name in score_db.keys():\n",
    "    print(name.center(10), end = '\\t')\n",
    "    print(score_db[name]['Physics'], end = '\\t')\n",
    "    print(score_db[name]['Math'], end = \"\\t\")\n",
    "    print(score_db[name]['Python'], end = \"\\t\")\n",
    "    print(score_db[name]['Physics'] + score_db[name]['Math'] + score_db[name]['Python'])\n",
    "else:\n",
    "    print('Not found')"
   ]
  },
  {
   "cell_type": "code",
   "execution_count": 76,
   "metadata": {},
   "outputs": [
    {
     "name": "stdout",
     "output_type": "stream",
     "text": [
      "|\tName\tPhysics\tMath\tPython\tTotal\t\n",
      "       SanZhao\t60\t32\t68\t160\n",
      "       SanQian\t80\t78\t92\t250\n",
      "        SanSun\t51\t80\t100\t231\n",
      "         SanLi\t66\t95\t78\t239\n",
      "       SanZhou\t76\t54\t94\t224\n",
      "         SanWu\t100\t87\t97\t284\n",
      "      SanZheng\t93\t87\t74\t254\n",
      "       SanWang\t80\t68\t67\t215\n",
      "        SiZhao\t70\t66\t55\t191\n",
      "        SiQian\t69\t76\t87\t232\n",
      "         SiSun\t69\t51\t86\t206\n",
      "          SiLi\t78\t100\t59\t237\n",
      "        SiZhou\t78\t54\t76\t208\n",
      "          SiWu\t100\t65\t64\t229\n",
      "       SiZheng\t100\t49\t52\t201\n",
      "        SiWang\t98\t77\t71\t246\n",
      "        WuZhao\t84\t100\t71\t255\n",
      "        WuQian\t64\t61\t81\t206\n",
      "         WuSun\t100\t86\t84\t270\n",
      "          WuLi\t57\t94\t64\t215\n",
      "        WuZhou\t62\t87\t93\t242\n",
      "          WuWu\t71\t56\t100\t227\n",
      "       WuZheng\t36\t70\t75\t181\n",
      "        WuWang\t56\t77\t39\t172\n",
      "       LiuZhao\t77\t100\t61\t238\n",
      "       LiuQian\t70\t85\t61\t216\n",
      "        LiuSun\t45\t100\t92\t237\n",
      "         LiuLi\t69\t76\t69\t214\n",
      "       LiuZhou\t57\t79\t69\t205\n",
      "         LiuWu\t92\t64\t89\t245\n",
      "      LiuZheng\t100\t68\t90\t258\n",
      "       LiuWang\t65\t95\t69\t229\n",
      "       JiaZhao\t89\t70\t11\t170\n",
      "       JiaQian\t100\t65\t61\t226\n",
      "        JiaSun\t100\t74\t90\t264\n",
      "         JiaLi\t100\t62\t50\t212\n",
      "       JiaZhou\t71\t81\t28\t180\n",
      "         JiaWu\t57\t88\t46\t191\n",
      "      JiaZheng\t53\t57\t66\t176\n",
      "       JiaWang\t68\t73\t83\t224\n",
      "        YiZhao\t73\t55\t58\t186\n",
      "        YiQian\t55\t72\t62\t189\n",
      "         YiSun\t78\t71\t94\t243\n",
      "          YiLi\t73\t96\t45\t214\n",
      "        YiZhou\t53\t38\t77\t168\n",
      "          YiWu\t72\t100\t83\t255\n",
      "       YiZheng\t80\t95\t89\t264\n",
      "        YiWang\t72\t64\t34\t170\n",
      "      BingZhao\t46\t71\t70\t187\n",
      "      BingQian\t100\t77\t67\t244\n",
      "       BingSun\t84\t100\t75\t259\n",
      "        BingLi\t100\t98\t59\t257\n",
      "      BingZhou\t59\t44\t60\t163\n",
      "        BingWu\t74\t59\t74\t207\n",
      "     BingZheng\t71\t82\t54\t207\n",
      "      BingWang\t100\t100\t68\t268\n",
      "      DingZhao\t68\t94\t100\t262\n",
      "      DingQian\t67\t48\t74\t189\n",
      "       DingSun\t69\t78\t47\t194\n",
      "        DingLi\t54\t60\t58\t172\n",
      "      DingZhou\t100\t77\t47\t224\n",
      "        DingWu\t58\t76\t84\t218\n",
      "     DingZheng\t38\t76\t98\t212\n",
      "      DingWang\t73\t63\t97\t233\n",
      "Not found\n"
     ]
    }
   ],
   "source": [
    "print('|\\tName\\tPhysics\\tMath\\tPython\\tTotal\\t')\n",
    "for name in score_db.keys():\n",
    "    print('{:>14}'.format(name), end = \"\\t\")\n",
    "    print(score_db[name]['Physics'], end = '\\t')\n",
    "    print(score_db[name]['Math'], end = \"\\t\")\n",
    "    print(score_db[name]['Python'], end = \"\\t\")\n",
    "    print(score_db[name]['Physics'] + score_db[name]['Math'] + score_db[name]['Python'])\n",
    "else:\n",
    "    print('Not found')"
   ]
  },
  {
   "cell_type": "code",
   "execution_count": 80,
   "metadata": {},
   "outputs": [
    {
     "name": "stdout",
     "output_type": "stream",
     "text": [
      "       SanZhao\t60\t32\t68\t160\n",
      "      BingZhou\t59\t44\t60\t163\n",
      "        YiZhou\t53\t38\t77\t168\n",
      "       JiaZhao\t89\t70\t11\t170\n",
      "        YiWang\t72\t64\t34\t170\n",
      "        WuWang\t56\t77\t39\t172\n",
      "        DingLi\t54\t60\t58\t172\n",
      "      JiaZheng\t53\t57\t66\t176\n",
      "       JiaZhou\t71\t81\t28\t180\n",
      "       WuZheng\t36\t70\t75\t181\n",
      "        YiZhao\t73\t55\t58\t186\n",
      "      BingZhao\t46\t71\t70\t187\n",
      "        YiQian\t55\t72\t62\t189\n",
      "      DingQian\t67\t48\t74\t189\n",
      "        SiZhao\t70\t66\t55\t191\n",
      "         JiaWu\t57\t88\t46\t191\n",
      "       DingSun\t69\t78\t47\t194\n",
      "       SiZheng\t100\t49\t52\t201\n",
      "       LiuZhou\t57\t79\t69\t205\n",
      "         SiSun\t69\t51\t86\t206\n",
      "        WuQian\t64\t61\t81\t206\n",
      "        BingWu\t74\t59\t74\t207\n",
      "     BingZheng\t71\t82\t54\t207\n",
      "        SiZhou\t78\t54\t76\t208\n",
      "         JiaLi\t100\t62\t50\t212\n",
      "     DingZheng\t38\t76\t98\t212\n",
      "         LiuLi\t69\t76\t69\t214\n",
      "          YiLi\t73\t96\t45\t214\n",
      "       SanWang\t80\t68\t67\t215\n",
      "          WuLi\t57\t94\t64\t215\n",
      "       LiuQian\t70\t85\t61\t216\n",
      "        DingWu\t58\t76\t84\t218\n",
      "       SanZhou\t76\t54\t94\t224\n",
      "       JiaWang\t68\t73\t83\t224\n",
      "      DingZhou\t100\t77\t47\t224\n",
      "       JiaQian\t100\t65\t61\t226\n",
      "          WuWu\t71\t56\t100\t227\n",
      "          SiWu\t100\t65\t64\t229\n",
      "       LiuWang\t65\t95\t69\t229\n",
      "        SanSun\t51\t80\t100\t231\n",
      "        SiQian\t69\t76\t87\t232\n",
      "      DingWang\t73\t63\t97\t233\n",
      "          SiLi\t78\t100\t59\t237\n",
      "        LiuSun\t45\t100\t92\t237\n",
      "       LiuZhao\t77\t100\t61\t238\n",
      "         SanLi\t66\t95\t78\t239\n",
      "        WuZhou\t62\t87\t93\t242\n",
      "         YiSun\t78\t71\t94\t243\n",
      "      BingQian\t100\t77\t67\t244\n",
      "         LiuWu\t92\t64\t89\t245\n",
      "        SiWang\t98\t77\t71\t246\n",
      "       SanQian\t80\t78\t92\t250\n",
      "      SanZheng\t93\t87\t74\t254\n",
      "        WuZhao\t84\t100\t71\t255\n",
      "          YiWu\t72\t100\t83\t255\n",
      "        BingLi\t100\t98\t59\t257\n",
      "      LiuZheng\t100\t68\t90\t258\n",
      "       BingSun\t84\t100\t75\t259\n",
      "      DingZhao\t68\t94\t100\t262\n",
      "        JiaSun\t100\t74\t90\t264\n",
      "       YiZheng\t80\t95\t89\t264\n",
      "      BingWang\t100\t100\t68\t268\n",
      "         WuSun\t100\t86\t84\t270\n",
      "         SanWu\t100\t87\t97\t284\n"
     ]
    }
   ],
   "source": [
    "def total(item):\n",
    "    return item[1]['Physics'] +item[1]['Python'] + item[1]['Math']\n",
    "\n",
    "\n",
    "items = score_db.items()\n",
    "sorted_score = sorted(items,key = total)\n",
    "\n",
    "for item in sorted_score:\n",
    "    print('{:>14}'.format(item[0]), end = \"\\t\")\n",
    "    print(item[1]['Physics'], end = '\\t')\n",
    "    print(item[1]['Math'], end = \"\\t\")\n",
    "    print(item[1]['Python'], end = \"\\t\")\n",
    "    print(item[1]['Physics'] + item[1]['Math'] + item[1]['Python'])"
   ]
  },
  {
   "cell_type": "code",
   "execution_count": null,
   "metadata": {},
   "outputs": [],
   "source": []
  }
 ],
 "metadata": {
  "kernelspec": {
   "display_name": "Python 3",
   "language": "python",
   "name": "python3"
  },
  "language_info": {
   "codemirror_mode": {
    "name": "ipython",
    "version": 3
   },
   "file_extension": ".py",
   "mimetype": "text/x-python",
   "name": "python",
   "nbconvert_exporter": "python",
   "pygments_lexer": "ipython3",
   "version": "3.7.3"
  }
 },
 "nbformat": 4,
 "nbformat_minor": 4
}
